{
 "cells": [
  {
   "cell_type": "markdown",
   "metadata": {},
   "source": [
    "## Functional Programming in Scala"
   ]
  },
  {
   "cell_type": "code",
   "execution_count": 7,
   "metadata": {},
   "outputs": [
    {
     "name": "stdout",
     "output_type": "stream",
     "text": [
      "Hi Mishtububu\n"
     ]
    },
    {
     "data": {
      "text/plain": [
       "defined \u001b[32mfunction\u001b[39m \u001b[36mgreet\u001b[39m"
      ]
     },
     "execution_count": 7,
     "metadata": {},
     "output_type": "execute_result"
    }
   ],
   "source": [
    "def greet(name : String):String={\n",
    "\n",
    "    return \"Hi \"+name\n",
    "}\n",
    "println(greet(\"Mishtububu\"))"
   ]
  },
  {
   "cell_type": "code",
   "execution_count": 9,
   "metadata": {},
   "outputs": [
    {
     "name": "stdout",
     "output_type": "stream",
     "text": [
      "Hello world greeting!\n",
      "Hi Rajdeep\n"
     ]
    },
    {
     "data": {
      "text/plain": [
       "defined \u001b[32mfunction\u001b[39m \u001b[36mgreet\u001b[39m"
      ]
     },
     "execution_count": 9,
     "metadata": {},
     "output_type": "execute_result"
    }
   ],
   "source": [
    "def greet(name: String):String={\n",
    "\n",
    "    println(\"Hello world greeting!\")\n",
    "\n",
    "    \"Hi \"+name //we don't need to add a return before the statement to make it act as a return statement\n",
    " \n",
    "}\n",
    "\n",
    "println(greet(\"Rajdeep\"))"
   ]
  },
  {
   "cell_type": "code",
   "execution_count": 11,
   "metadata": {},
   "outputs": [
    {
     "name": "stdout",
     "output_type": "stream",
     "text": [
      "Processed !!!RD"
     ]
    },
    {
     "data": {
      "text/plain": [
       "defined \u001b[32mfunction\u001b[39m \u001b[36mgreet\u001b[39m"
      ]
     },
     "execution_count": 11,
     "metadata": {},
     "output_type": "execute_result"
    }
   ],
   "source": [
    "def greet(name : String):String=\"Processed !!!\"+name\n",
    "\n",
    "print(greet(\"RD\"))"
   ]
  },
  {
   "cell_type": "markdown",
   "metadata": {},
   "source": [
    "#### Section 2-More functions"
   ]
  },
  {
   "cell_type": "markdown",
   "metadata": {},
   "source": [
    "##### Normal function syntax"
   ]
  },
  {
   "cell_type": "code",
   "execution_count": 13,
   "metadata": {},
   "outputs": [
    {
     "name": "stdout",
     "output_type": "stream",
     "text": [
      "11\n",
      "11\n"
     ]
    },
    {
     "data": {
      "text/plain": [
       "defined \u001b[32mfunction\u001b[39m \u001b[36msum\u001b[39m\n",
       "\u001b[36madd\u001b[39m: (\u001b[32mInt\u001b[39m, \u001b[32mInt\u001b[39m) => \u001b[32mInt\u001b[39m = ammonite.$sess.cmd13$Helper$$Lambda/0x00000070019eab08@57ec5c00"
      ]
     },
     "execution_count": 13,
     "metadata": {},
     "output_type": "execute_result"
    },
    {
     "ename": "",
     "evalue": "",
     "output_type": "error",
     "traceback": [
      "\u001b[1;31mThe Kernel crashed while executing code in the current cell or a previous cell. \n",
      "\u001b[1;31mPlease review the code in the cell(s) to identify a possible cause of the failure. \n",
      "\u001b[1;31mClick <a href='https://aka.ms/vscodeJupyterKernelCrash'>here</a> for more info. \n",
      "\u001b[1;31mView Jupyter <a href='command:jupyter.viewOutput'>log</a> for further details."
     ]
    }
   ],
   "source": [
    "// Normal function syntax\n",
    "def sum(a:Int,b:Int):Int=a+b\n",
    "\n",
    "println(sum(5,6))\n",
    "\n",
    "\n",
    "val add:(Int,Int)=>Int=sum\n",
    "println(add(5,6))"
   ]
  },
  {
   "cell_type": "markdown",
   "metadata": {},
   "source": [
    "##### Arrow syntax(lambda syntax)"
   ]
  },
  {
   "cell_type": "code",
   "execution_count": 2,
   "metadata": {},
   "outputs": [
    {
     "name": "stdout",
     "output_type": "stream",
     "text": [
      "11\n"
     ]
    },
    {
     "data": {
      "text/plain": [
       "defined \u001b[32mfunction\u001b[39m \u001b[36msum\u001b[39m"
      ]
     },
     "execution_count": 2,
     "metadata": {},
     "output_type": "execute_result"
    }
   ],
   "source": [
    "//  Arrow syntax\n",
    "// Keeping the return type implicit\n",
    "def sum=(a:Int,b:Int)=>a+b\n",
    "println(sum(5,6))"
   ]
  },
  {
   "cell_type": "code",
   "execution_count": 2,
   "metadata": {},
   "outputs": [],
   "source": [
    "//parameter types have to be passed explicitly\n",
    "// def sum=(a,b)=>a+b//this throws an error"
   ]
  },
  {
   "cell_type": "markdown",
   "metadata": {},
   "source": [
    "###### Syntax for assigning a function type to a variable"
   ]
  },
  {
   "cell_type": "code",
   "execution_count": 3,
   "metadata": {},
   "outputs": [
    {
     "name": "stdout",
     "output_type": "stream",
     "text": [
      "125\n"
     ]
    },
    {
     "data": {
      "text/plain": [
       "\u001b[36mcube\u001b[39m: \u001b[32mInt\u001b[39m => \u001b[32mInt\u001b[39m = ammonite.$sess.cmd3$Helper$$Lambda/0x000000d0017df548@a8f6f2d"
      ]
     },
     "execution_count": 3,
     "metadata": {},
     "output_type": "execute_result"
    }
   ],
   "source": [
    "val cube:Int=>Int=(x)=>x*x*x\n",
    "\n",
    "println(cube(5))"
   ]
  },
  {
   "cell_type": "code",
   "execution_count": 4,
   "metadata": {},
   "outputs": [
    {
     "name": "stdout",
     "output_type": "stream",
     "text": [
      "79\n"
     ]
    },
    {
     "data": {
      "text/plain": [
       "\u001b[36msum\u001b[39m: (\u001b[32mInt\u001b[39m, \u001b[32mInt\u001b[39m) => \u001b[32mInt\u001b[39m = ammonite.$sess.cmd4$Helper$$Lambda/0x000000d0019cc5f8@33deda45"
      ]
     },
     "execution_count": 4,
     "metadata": {},
     "output_type": "execute_result"
    }
   ],
   "source": [
    "val sum:(Int,Int)=>Int =(a:Int,b:Int)=>a+b\n",
    "println(sum(34,45))"
   ]
  },
  {
   "cell_type": "markdown",
   "metadata": {},
   "source": [
    "#### Section 3- More functions"
   ]
  },
  {
   "cell_type": "code",
   "execution_count": 6,
   "metadata": {},
   "outputs": [
    {
     "name": "stdout",
     "output_type": "stream",
     "text": [
      "()\n"
     ]
    },
    {
     "data": {
      "text/plain": [
       "defined \u001b[32mfunction\u001b[39m \u001b[36mprocess\u001b[39m"
      ]
     },
     "execution_count": 6,
     "metadata": {},
     "output_type": "execute_result"
    }
   ],
   "source": [
    "def process(x:String):Unit= s\"Process $x has started\"\n",
    "\n",
    "println(process(\"MyProcess\"))\n",
    "\n"
   ]
  },
  {
   "cell_type": "code",
   "execution_count": 1,
   "metadata": {},
   "outputs": [
    {
     "name": "stdout",
     "output_type": "stream",
     "text": [
      "Process Desktop Application X23 has started\n",
      "Process Desktop App has started\n",
      "Process DBService has started\n",
      "class ammonite.$sess.cmd1$Helper$$Lambda/0x00000070017ee000\n",
      "class ammonite.$sess.cmd1$Helper$$Lambda/0x000000700120d800\n"
     ]
    },
    {
     "data": {
      "text/plain": [
       "defined \u001b[32mfunction\u001b[39m \u001b[36mprocess\u001b[39m\n",
       "\u001b[36mtarget\u001b[39m: \u001b[32mString\u001b[39m => \u001b[32mString\u001b[39m = ammonite.$sess.cmd1$Helper$$Lambda/0x000000700120d800@5ead7876\n",
       "\u001b[36mtarget2\u001b[39m: \u001b[32mString\u001b[39m => \u001b[32mString\u001b[39m = ammonite.$sess.cmd1$Helper$$Lambda/0x000000700120dbc0@6f1eb360\n",
       "\u001b[36mcopied\u001b[39m: \u001b[32mString\u001b[39m => \u001b[32mString\u001b[39m = ammonite.$sess.cmd1$Helper$$Lambda/0x00000070017ee000@1e4c33d3"
      ]
     },
     "execution_count": 1,
     "metadata": {},
     "output_type": "execute_result"
    }
   ],
   "source": [
    "def process(x:String):String= s\"Process $x has started\"\n",
    "\n",
    "val target=process _ //automatic type inferece using underscore wildcard// or process(_)\n",
    "val target2=process(_)\n",
    "// val errorCopied=process // throws error due to problem in type conversion\n",
    "val copied:String=>String=process//copied type is specified\n",
    "println(target(\"Desktop Application X23\"))\n",
    "println(target(\"Desktop App\"))\n",
    "// println(errorCopied(\"ErrorService\"))// this should throw an error as type wouldnt have been inferred properly\n",
    "println(copied(\"DBService\"))\n",
    "\n",
    "println(copied.getClass)\n",
    "println(target.getClass)\n",
    "//both of the above cases return the same Class ,i.e Lambda only\n"
   ]
  },
  {
   "cell_type": "markdown",
   "metadata": {},
   "source": [
    "##### Callback functions"
   ]
  },
  {
   "cell_type": "code",
   "execution_count": 1,
   "metadata": {},
   "outputs": [
    {
     "data": {
      "text/plain": [
       "defined \u001b[32mfunction\u001b[39m \u001b[36mcallMeIWillSendYouThatManyTimes\u001b[39m"
      ]
     },
     "execution_count": 1,
     "metadata": {},
     "output_type": "execute_result"
    }
   ],
   "source": [
    "def callMeIWillSendYouThatManyTimes(times:Int,method:(String)=>Unit)={\n",
    "\n",
    "    for(i<-1 to times){\n",
    "\n",
    "        println(\"In the original function call\")\n",
    "        method(s\"India $i\")\n",
    "        println(\"Back to the original call\")\n",
    "    }\n",
    "    println(\"done\")\n",
    "\n",
    "\n",
    "}\n"
   ]
  },
  {
   "cell_type": "code",
   "execution_count": 2,
   "metadata": {},
   "outputs": [
    {
     "name": "stdout",
     "output_type": "stream",
     "text": [
      "In the original function call\n",
      "User is processing India 1\n",
      "Back to the original call\n",
      "In the original function call\n",
      "User is processing India 2\n",
      "Back to the original call\n",
      "In the original function call\n",
      "User is processing India 3\n",
      "Back to the original call\n",
      "In the original function call\n",
      "User is processing India 4\n",
      "Back to the original call\n",
      "In the original function call\n",
      "User is processing India 5\n",
      "Back to the original call\n",
      "done\n",
      "In the original function call\n",
      "Hii India 1\n",
      "Back to the original call\n",
      "In the original function call\n",
      "Hii India 2\n",
      "Back to the original call\n",
      "In the original function call\n",
      "Hii India 3\n",
      "Back to the original call\n",
      "In the original function call\n",
      "Hii India 4\n",
      "Back to the original call\n",
      "In the original function call\n",
      "Hii India 5\n",
      "Back to the original call\n",
      "In the original function call\n",
      "Hii India 6\n",
      "Back to the original call\n",
      "done\n"
     ]
    },
    {
     "data": {
      "text/plain": [
       "defined \u001b[32mfunction\u001b[39m \u001b[36mgetTheData\u001b[39m"
      ]
     },
     "execution_count": 2,
     "metadata": {},
     "output_type": "execute_result"
    }
   ],
   "source": [
    "def getTheData(data:String):Unit={\n",
    "    println(s\"User is processing $data\")\n",
    "}\n",
    "callMeIWillSendYouThatManyTimes(5,getTheData)\n",
    "\n",
    "callMeIWillSendYouThatManyTimes(6,(name)=>{\n",
    "    println(s\"Hii $name\") //type is inferred in lambda functions\n",
    "})"
   ]
  },
  {
   "cell_type": "markdown",
   "metadata": {},
   "source": [
    "##### Arrays and filters using callbacks"
   ]
  },
  {
   "cell_type": "code",
   "execution_count": 1,
   "metadata": {},
   "outputs": [
    {
     "data": {
      "text/plain": [
       "defined \u001b[32mfunction\u001b[39m \u001b[36mfilterIt\u001b[39m"
      ]
     },
     "execution_count": 1,
     "metadata": {},
     "output_type": "execute_result"
    }
   ],
   "source": [
    "def filterIt(elements:Array[Int],logic:Int=>Boolean):Array[Int]={\n",
    "\n",
    "    var a: Int=0;\n",
    "    var count: Int=0;\n",
    "    for(data<-elements){\n",
    "\n",
    "        if(logic(data)){\n",
    "\n",
    "            count+=1;\n",
    "        }\n",
    "    }\n",
    "    val arr=Array.fill(count)(0)\n",
    "\n",
    "    for(data<-elements){\n",
    "\n",
    "        if(logic(data)){\n",
    "\n",
    "            arr(a)=data;\n",
    "            a+=1;\n",
    "        }\n",
    "    }\n",
    "    return arr;\n",
    "}"
   ]
  },
  {
   "cell_type": "code",
   "execution_count": 5,
   "metadata": {},
   "outputs": [
    {
     "name": "stdout",
     "output_type": "stream",
     "text": [
      "456->645->0->6->45->4545->\n"
     ]
    },
    {
     "data": {
      "text/plain": [
       "\u001b[36mnumarray\u001b[39m: \u001b[32mArray\u001b[39m[\u001b[32mInt\u001b[39m] = \u001b[33mArray\u001b[39m(\u001b[32m40\u001b[39m, \u001b[32m641\u001b[39m, \u001b[32m256\u001b[39m, \u001b[32m456\u001b[39m, \u001b[32m645\u001b[39m, \u001b[32m0\u001b[39m, \u001b[32m6\u001b[39m, \u001b[32m245\u001b[39m, \u001b[32m45\u001b[39m, \u001b[32m4545\u001b[39m)\n",
       "\u001b[36mresArray\u001b[39m: \u001b[32mArray\u001b[39m[\u001b[32mInt\u001b[39m] = \u001b[33mArray\u001b[39m(\u001b[32m456\u001b[39m, \u001b[32m645\u001b[39m, \u001b[32m0\u001b[39m, \u001b[32m6\u001b[39m, \u001b[32m45\u001b[39m, \u001b[32m4545\u001b[39m)\n",
       "\u001b[36mprintArr\u001b[39m: \u001b[32mArray\u001b[39m[\u001b[32mInt\u001b[39m] => \u001b[32mUnit\u001b[39m = ammonite.$sess.cmd5$Helper$$Lambda/0x000000a001932c80@152331c6"
      ]
     },
     "execution_count": 5,
     "metadata": {},
     "output_type": "execute_result"
    }
   ],
   "source": [
    "var numarray:Array[Int]=Array(40,641,256,456,645,0,6,245,45,4545);\n",
    " \n",
    "var resArray:Array[Int]=filterIt(numarray,(x)=>x%3==0);\n",
    "\n",
    "val printArr:(Array[Int])=>Unit=(arr)=>{\n",
    "    \n",
    "    for(x<-arr){\n",
    "\n",
    "      print(s\"$x->\")\n",
    "}\n",
    "    println()\n",
    "}\n",
    "\n",
    "\n",
    "\n",
    "printArr(resArray)"
   ]
  }
 ],
 "metadata": {
  "kernelspec": {
   "display_name": "Scala",
   "language": "scala",
   "name": "scala"
  },
  "language_info": {
   "codemirror_mode": "text/x-scala",
   "file_extension": ".sc",
   "mimetype": "text/x-scala",
   "name": "scala",
   "nbconvert_exporter": "script",
   "version": "2.13.14"
  }
 },
 "nbformat": 4,
 "nbformat_minor": 2
}
