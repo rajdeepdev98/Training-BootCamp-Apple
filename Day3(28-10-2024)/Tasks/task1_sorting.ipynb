{
 "cells": [
  {
   "cell_type": "markdown",
   "metadata": {},
   "source": [
    "## Different sorting techniques"
   ]
  },
  {
   "cell_type": "markdown",
   "metadata": {},
   "source": [
    "###### Swap utility"
   ]
  },
  {
   "cell_type": "code",
   "execution_count": 18,
   "metadata": {},
   "outputs": [
    {
     "data": {
      "text/plain": [
       "\u001b[36mswap\u001b[39m: (\u001b[32mArray\u001b[39m[\u001b[32mInt\u001b[39m], \u001b[32mInt\u001b[39m, \u001b[32mInt\u001b[39m) => \u001b[32mUnit\u001b[39m = ammonite.$sess.cmd18$Helper$$Lambda/0x0000007001a49820@d165bea\n",
       "\u001b[36mprintArray\u001b[39m: \u001b[32mArray\u001b[39m[\u001b[32mInt\u001b[39m] => \u001b[32mUnit\u001b[39m = ammonite.$sess.cmd18$Helper$$Lambda/0x0000007001a49a58@742d65ff"
      ]
     },
     "execution_count": 18,
     "metadata": {},
     "output_type": "execute_result"
    }
   ],
   "source": [
    "val swap:(Array[Int],Int,Int)=>Unit=(arr, index1, index2) => {\n",
    "    val temp = arr(index1)\n",
    "    arr(index1) = arr(index2)\n",
    "    arr(index2) = temp\n",
    "  }\n",
    "\n",
    "val printArray:(Array[Int])=>Unit=(arr)=>{\n",
    "    for(el<-arr)print(s\"$el \")\n",
    "    println()\n",
    "}"
   ]
  },
  {
   "cell_type": "markdown",
   "metadata": {},
   "source": [
    "###### Bubble Sort"
   ]
  },
  {
   "cell_type": "code",
   "execution_count": 19,
   "metadata": {},
   "outputs": [
    {
     "data": {
      "text/plain": [
       "\u001b[32mimport \u001b[39m\u001b[36mscala.util.control.Breaks._\u001b[39m\n",
       "defined \u001b[32mfunction\u001b[39m \u001b[36mbubbleSort\u001b[39m"
      ]
     },
     "execution_count": 19,
     "metadata": {},
     "output_type": "execute_result"
    }
   ],
   "source": [
    "import scala.util.control.Breaks._\n",
    "def bubbleSort(arr:Array[Int]):Unit={\n",
    "\n",
    "    val n=arr.length;\n",
    "\n",
    "    \n",
    "    breakable{\n",
    "\n",
    "\n",
    "    for(i<-0 until n){\n",
    "\n",
    "        var swapped=false;\n",
    "        for(j<-(i+1 )until n){\n",
    "\n",
    "            if(arr(i)>arr(j)){\n",
    "\n",
    "                // (arr(i),arr(j))=(arr(j),arr(i)) ->tuple assignment doesnt work for arrays\n",
    "                swap(arr,i,j);\n",
    "                swapped=true;\n",
    "            }\n",
    "        }\n",
    "        if(swapped)break();\n",
    "    }\n",
    "    }\n",
    "    \n",
    "}"
   ]
  },
  {
   "cell_type": "code",
   "execution_count": 20,
   "metadata": {},
   "outputs": [
    {
     "name": "stdout",
     "output_type": "stream",
     "text": [
      "[I@430553e1\n"
     ]
    },
    {
     "data": {
      "text/plain": [
       "\u001b[36marr\u001b[39m: \u001b[32mArray\u001b[39m[\u001b[32mInt\u001b[39m] = \u001b[33mArray\u001b[39m(\u001b[32m1\u001b[39m, \u001b[32m5\u001b[39m, \u001b[32m4\u001b[39m, \u001b[32m3\u001b[39m, \u001b[32m2\u001b[39m)"
      ]
     },
     "execution_count": 20,
     "metadata": {},
     "output_type": "execute_result"
    }
   ],
   "source": [
    "val arr:Array[Int]=Array(5,4,3,2,1);\n",
    "\n",
    "bubbleSort(arr);\n",
    "println(arr)"
   ]
  },
  {
   "cell_type": "markdown",
   "metadata": {},
   "source": [
    "##### Insertion Sort"
   ]
  },
  {
   "cell_type": "code",
   "execution_count": 21,
   "metadata": {},
   "outputs": [
    {
     "data": {
      "text/plain": [
       "\u001b[36minsertionSort\u001b[39m: \u001b[32mArray\u001b[39m[\u001b[32mInt\u001b[39m] => \u001b[32mUnit\u001b[39m = ammonite.$sess.cmd21$Helper$$Lambda/0x0000007001a568c8@58a1825b"
      ]
     },
     "execution_count": 21,
     "metadata": {},
     "output_type": "execute_result"
    }
   ],
   "source": [
    "val insertionSort:(Array[Int])=>Unit=(arr)=>{\n",
    "\n",
    "\n",
    "    for (i <- 1 until arr.length) {\n",
    "      val key = arr(i)\n",
    "      var j = i - 1\n",
    "\n",
    "      // Move elements that are greater than key to one position ahead\n",
    "      while (j >= 0 && arr(j) > key) {\n",
    "        arr(j + 1) = arr(j)\n",
    "        j -= 1\n",
    "      }\n",
    "      arr(j + 1) = key\n",
    "    }\n",
    "}"
   ]
  },
  {
   "cell_type": "code",
   "execution_count": 22,
   "metadata": {},
   "outputs": [
    {
     "name": "stdout",
     "output_type": "stream",
     "text": [
      "[I@b076d64\n"
     ]
    },
    {
     "data": {
      "text/plain": [
       "\u001b[36marr\u001b[39m: \u001b[32mArray\u001b[39m[\u001b[32mInt\u001b[39m] = \u001b[33mArray\u001b[39m(\u001b[32m1\u001b[39m, \u001b[32m2\u001b[39m, \u001b[32m3\u001b[39m, \u001b[32m4\u001b[39m, \u001b[32m5\u001b[39m)"
      ]
     },
     "execution_count": 22,
     "metadata": {},
     "output_type": "execute_result"
    }
   ],
   "source": [
    "val arr:Array[Int]=Array(5,4,3,2,1);\n",
    "\n",
    "insertionSort(arr);\n",
    "println(arr)"
   ]
  },
  {
   "cell_type": "markdown",
   "metadata": {},
   "source": [
    "###### Selection Sort"
   ]
  },
  {
   "cell_type": "code",
   "execution_count": 23,
   "metadata": {},
   "outputs": [
    {
     "data": {
      "text/plain": [
       "defined \u001b[32mfunction\u001b[39m \u001b[36mselectionSort\u001b[39m"
      ]
     },
     "execution_count": 23,
     "metadata": {},
     "output_type": "execute_result"
    }
   ],
   "source": [
    "def selectionSort(arr:Array[Int]):Unit={\n",
    "\n",
    "    val n:Int=arr.length;\n",
    "\n",
    "    for (i <- 0 until n - 1) {\n",
    "      // Assume the minimum is the first element of the unsorted part\n",
    "      var minIndex = i\n",
    "      for (j <- i + 1 until n) {\n",
    "        // Find the index of the minimum element\n",
    "        if (arr(j) < arr(minIndex)) {\n",
    "          minIndex = j\n",
    "        }\n",
    "      }\n",
    "      // Swap the found minimum element with the first element\n",
    "      if (minIndex != i) swap(arr,minIndex,i)\n",
    "    }\n",
    "}"
   ]
  },
  {
   "cell_type": "code",
   "execution_count": 24,
   "metadata": {},
   "outputs": [
    {
     "name": "stdout",
     "output_type": "stream",
     "text": [
      "[I@7eabe658\n"
     ]
    },
    {
     "data": {
      "text/plain": [
       "\u001b[36marr\u001b[39m: \u001b[32mArray\u001b[39m[\u001b[32mInt\u001b[39m] = \u001b[33mArray\u001b[39m(\u001b[32m1\u001b[39m, \u001b[32m2\u001b[39m, \u001b[32m3\u001b[39m, \u001b[32m4\u001b[39m, \u001b[32m5\u001b[39m)"
      ]
     },
     "execution_count": 24,
     "metadata": {},
     "output_type": "execute_result"
    }
   ],
   "source": [
    "val arr:Array[Int]=Array(5,4,3,2,1);\n",
    "\n",
    "selectionSort(arr);\n",
    "println(arr)"
   ]
  },
  {
   "cell_type": "markdown",
   "metadata": {},
   "source": [
    "##### QuickSort"
   ]
  },
  {
   "cell_type": "code",
   "execution_count": 25,
   "metadata": {},
   "outputs": [
    {
     "data": {
      "text/plain": [
       "defined \u001b[32mfunction\u001b[39m \u001b[36mparition\u001b[39m\n",
       "\u001b[36mquickSort\u001b[39m: (\u001b[32mArray\u001b[39m[\u001b[32mInt\u001b[39m], \u001b[32mInt\u001b[39m, \u001b[32mInt\u001b[39m) => \u001b[32mUnit\u001b[39m = ammonite.$sess.cmd25$Helper$$Lambda/0x0000007001a5ce48@4cc3218b"
      ]
     },
     "execution_count": 25,
     "metadata": {},
     "output_type": "execute_result"
    }
   ],
   "source": [
    "def parition(arr:Array[Int],low:Int,high:Int):Int={\n",
    "    var pivot:Int=arr(low);\n",
    "\n",
    "    var i=low;\n",
    "    var j=high;\n",
    "    while(i<j){\n",
    "\n",
    "        while(arr(i)<=pivot && i<=high-1){\n",
    "\n",
    "            i+=1;\n",
    "        }\n",
    "        while(arr(j)>pivot && j>=low+1){\n",
    "            j-=1;\n",
    "        }\n",
    "        if(i<j)swap(arr,i,j)\n",
    "    }\n",
    "    swap(arr,low,j)\n",
    "    return j\n",
    "\n",
    "}\n",
    "\n",
    "val quickSort:(Array[Int],Int,Int)=>Unit=(arr,low,high)=>{\n",
    "\n",
    "        if(low<high){\n",
    "            var pivotIndex=parition(arr,low,high);\n",
    "\n",
    "            quickSort(arr,low,pivotIndex-1);\n",
    "            quickSort(arr,pivotIndex+1,high)\n",
    "        }\n",
    "   \n",
    "  }\n"
   ]
  },
  {
   "cell_type": "code",
   "execution_count": 26,
   "metadata": {},
   "outputs": [
    {
     "name": "stdout",
     "output_type": "stream",
     "text": [
      "[I@1f765418\n"
     ]
    },
    {
     "data": {
      "text/plain": [
       "\u001b[36marr\u001b[39m: \u001b[32mArray\u001b[39m[\u001b[32mInt\u001b[39m] = \u001b[33mArray\u001b[39m(\u001b[32m1\u001b[39m, \u001b[32m2\u001b[39m, \u001b[32m3\u001b[39m, \u001b[32m4\u001b[39m, \u001b[32m5\u001b[39m)"
      ]
     },
     "execution_count": 26,
     "metadata": {},
     "output_type": "execute_result"
    }
   ],
   "source": [
    "val arr:Array[Int]=Array(5,4,3,2,1);\n",
    "\n",
    "quickSort(arr,0,arr.length-1);\n",
    "println(arr)"
   ]
  },
  {
   "cell_type": "code",
   "execution_count": 27,
   "metadata": {},
   "outputs": [
    {
     "name": "stdout",
     "output_type": "stream",
     "text": [
      "2\n"
     ]
    },
    {
     "data": {
      "text/plain": [
       "\u001b[36mN\u001b[39m: \u001b[32mInt\u001b[39m = \u001b[32m5\u001b[39m"
      ]
     },
     "execution_count": 27,
     "metadata": {},
     "output_type": "execute_result"
    }
   ],
   "source": [
    "val N:Int=5\n",
    "println(N/2)"
   ]
  },
  {
   "cell_type": "markdown",
   "metadata": {},
   "source": [
    "##### Heap Sort"
   ]
  },
  {
   "cell_type": "code",
   "execution_count": 28,
   "metadata": {},
   "outputs": [
    {
     "data": {
      "text/plain": [
       "defined \u001b[32mfunction\u001b[39m \u001b[36mmaxHeapify\u001b[39m\n",
       "\u001b[36mbuildMaxHeap\u001b[39m: \u001b[32mArray\u001b[39m[\u001b[32mInt\u001b[39m] => \u001b[32mUnit\u001b[39m = ammonite.$sess.cmd28$Helper$$Lambda/0x0000007001a5f310@4a29a52f\n",
       "\u001b[36mheapSort\u001b[39m: \u001b[32mArray\u001b[39m[\u001b[32mInt\u001b[39m] => \u001b[32mUnit\u001b[39m = ammonite.$sess.cmd28$Helper$$Lambda/0x0000007001a5f6d0@2f277a08"
      ]
     },
     "execution_count": 28,
     "metadata": {},
     "output_type": "execute_result"
    }
   ],
   "source": [
    "def maxHeapify(arr:Array[Int],i:Int, n:Int):Unit={\n",
    "\n",
    "\n",
    "//converts the array into a max-heap->making sure that each parent node is greater than or equal to each of its child nodes\n",
    "\n",
    "\n",
    "    var largest:Int=i;\n",
    "\n",
    "    var left:Int=2*i+1;\n",
    "    var right:Int=2*i+2;\n",
    "\n",
    "    // If left child is larger than root\n",
    "    if (left < n && arr(left) > arr(largest)) {\n",
    "        largest = left\n",
    "    }\n",
    "\n",
    "    // If right child is larger than largest so far\n",
    "    if (right < n && arr(right) > arr(largest)) {\n",
    "        largest = right\n",
    "    }\n",
    "    // If largest is not root\n",
    "    if (largest != i) {\n",
    "        val swap = arr(i)\n",
    "        arr(i) = arr(largest)\n",
    "        arr(largest) = swap\n",
    "\n",
    "        // Recursively heapify the affected sub-tree\n",
    "        maxHeapify(arr, n, largest)\n",
    "        }\n",
    "\n",
    "    }\n",
    "\n",
    "\n",
    "val buildMaxHeap:(Array[Int])=>Unit=(arr)=>{\n",
    "\n",
    "    val N=arr.length\n",
    "    for(i<-N/2 until(0,-1))\n",
    "\n",
    "        {\n",
    "            maxHeapify(arr, i,N) ;\n",
    "        }\n",
    "\n",
    "}\n",
    "\n",
    "val heapSort:(Array[Int])=>Unit=(arr)=>{\n",
    "\n",
    "\n",
    "    val N:Int=arr.length;\n",
    "    var maxHeapSize:Int=N;\n",
    "    buildMaxHeap(arr);\n",
    "\n",
    "    var i=N-1;\n",
    "    while(i>0){\n",
    "\n",
    "        swap(arr,0,i);\n",
    "        maxHeapSize-=1;\n",
    "        maxHeapify(arr,0,maxHeapSize)\n",
    "        i-=1;\n",
    "        // println(i)\n",
    "        printArray(arr)\n",
    "    }\n",
    "\n",
    "}\n",
    "\n",
    "\n"
   ]
  },
  {
   "cell_type": "code",
   "execution_count": 29,
   "metadata": {},
   "outputs": [
    {
     "name": "stdout",
     "output_type": "stream",
     "text": [
      "4 1 3 2 5 \n",
      "3 1 2 4 5 \n",
      "2 1 3 4 5 \n",
      "1 2 3 4 5 \n",
      "[I@16c38b54\n"
     ]
    },
    {
     "data": {
      "text/plain": [
       "\u001b[36marr\u001b[39m: \u001b[32mArray\u001b[39m[\u001b[32mInt\u001b[39m] = \u001b[33mArray\u001b[39m(\u001b[32m1\u001b[39m, \u001b[32m2\u001b[39m, \u001b[32m3\u001b[39m, \u001b[32m4\u001b[39m, \u001b[32m5\u001b[39m)"
      ]
     },
     "execution_count": 29,
     "metadata": {},
     "output_type": "execute_result"
    }
   ],
   "source": [
    "val arr:Array[Int]=Array(5,4,3,2,1);\n",
    "\n",
    "heapSort(arr)\n",
    "println(arr)"
   ]
  }
 ],
 "metadata": {
  "kernelspec": {
   "display_name": "Scala",
   "language": "scala",
   "name": "scala"
  },
  "language_info": {
   "codemirror_mode": "text/x-scala",
   "file_extension": ".sc",
   "mimetype": "text/x-scala",
   "name": "scala",
   "nbconvert_exporter": "script",
   "version": "2.13.14"
  }
 },
 "nbformat": 4,
 "nbformat_minor": 2
}
