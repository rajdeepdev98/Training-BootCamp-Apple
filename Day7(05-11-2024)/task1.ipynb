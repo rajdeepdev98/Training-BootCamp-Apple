{
 "cells": [
  {
   "cell_type": "markdown",
   "metadata": {},
   "source": [
    "## Task 1"
   ]
  },
  {
   "cell_type": "code",
   "execution_count": 8,
   "metadata": {},
   "outputs": [
    {
     "name": "stdout",
     "output_type": "stream",
     "text": [
      "About to sleep.....\n",
      "hello\n",
      "Woke up.....\n"
     ]
    },
    {
     "data": {
      "text/plain": [
       "defined \u001b[32mclass\u001b[39m \u001b[36mJobRunner\u001b[39m\n",
       "defined \u001b[32mobject\u001b[39m \u001b[36mJobRunner\u001b[39m\n",
       "\u001b[36mjob\u001b[39m: \u001b[32mJobRunner\u001b[39m = ammonite.$sess.cmd8$Helper$JobRunner@4b22adb9"
      ]
     },
     "execution_count": 8,
     "metadata": {},
     "output_type": "execute_result"
    }
   ],
   "source": [
    "class JobRunner(name:String,timeIn:Int){\n",
    "\n",
    "    \n",
    "   \n",
    "}\n",
    "\n",
    "object JobRunner{\n",
    "     def apply(name:String,timeIn:Int)(logic: =>Unit):JobRunner={\n",
    "        println(\"About to sleep.....\")\n",
    "        Thread.sleep(timeIn*1000)\n",
    "        logic\n",
    "        println(\"Woke up.....\")\n",
    "\n",
    "        new JobRunner(name,timeIn)\n",
    "    }\n",
    "}\n",
    "\n",
    "\n",
    "// (logic: =>Unit):Unit={\n",
    "//     println(v1)\n",
    "//     logic\n",
    "// }\n",
    "\n",
    "val job:JobRunner = JobRunner(\"job1\", 5){println(\"hello\")}"
   ]
  },
  {
   "cell_type": "code",
   "execution_count": 10,
   "metadata": {},
   "outputs": [
    {
     "data": {
      "text/plain": [
       "defined \u001b[32mclass\u001b[39m \u001b[36msecondjob\u001b[39m\n",
       "\u001b[36mjob2\u001b[39m: \u001b[32msecondjob\u001b[39m = ammonite.$sess.cmd10$Helper$secondjob@1815e201"
      ]
     },
     "execution_count": 10,
     "metadata": {},
     "output_type": "execute_result"
    }
   ],
   "source": [
    "class secondjob{\n",
    "\n",
    "    def apply()={\n",
    "        println(\"About to sleep.....\")\n",
    "        Thread.sleep(5*1000)\n",
    "        // logic\n",
    "        println(\"Woke up.....\")\n",
    "    }\n",
    "}\n",
    "\n",
    "val job2: secondjob= new secondjob()"
   ]
  },
  {
   "cell_type": "markdown",
   "metadata": {},
   "source": [
    "## Task 2"
   ]
  },
  {
   "cell_type": "code",
   "execution_count": 29,
   "metadata": {},
   "outputs": [
    {
     "name": "stdout",
     "output_type": "stream",
     "text": [
      "Thread Thread3 Found 1567\n"
     ]
    },
    {
     "data": {
      "text/html": [
       "<div class=\"jp-RenderedText\">\n",
       "<pre><code><span style=\"color: rgb(0, 187, 0)\"><span class=\"ansi-green-fg\">import </span></span><span style=\"color: rgb(0, 187, 187)\"><span class=\"ansi-cyan-fg\">scala.util.Random</span></span>\n",
       "<span style=\"color: rgb(0, 187, 0)\"><span class=\"ansi-green-fg\">import </span></span><span style=\"color: rgb(0, 187, 187)\"><span class=\"ansi-cyan-fg\">scala.concurrent.{Future, Promise}</span></span>\n",
       "<span style=\"color: rgb(0, 187, 0)\"><span class=\"ansi-green-fg\">import </span></span><span style=\"color: rgb(0, 187, 187)\"><span class=\"ansi-cyan-fg\">scala.concurrent.ExecutionContext.Implicits.global</span></span>\n",
       "<span style=\"color: rgb(0, 187, 187)\"><span class=\"ansi-cyan-fg\">promise</span></span>: <span style=\"color: rgb(0, 187, 0)\"><span class=\"ansi-green-fg\">Promise</span></span>[<span style=\"color: rgb(0, 187, 0)\"><span class=\"ansi-green-fg\">String</span></span>] = <span style=\"color: rgb(0, 187, 0)\"><span class=\"ansi-green-fg\"><span style=\"color: yellow\"><span class=\"ansi-yellow-fg\">Success</span></span>(value = <span style=\"color: rgb(0, 187, 0)\"><span class=\"ansi-green-fg\">&quot;Thread Thread3 Found 1567&quot;</span></span>)</span></span>\n",
       "defined <span style=\"color: rgb(0, 187, 0)\"><span class=\"ansi-green-fg\">function</span></span> <span style=\"color: rgb(0, 187, 187)\"><span class=\"ansi-cyan-fg\">randomFunc</span></span>\n",
       "<span style=\"color: rgb(0, 187, 187)\"><span class=\"ansi-cyan-fg\">thread1</span></span>: <span style=\"color: rgb(0, 187, 0)\"><span class=\"ansi-green-fg\">Thread</span></span> = Thread[#164,Thread1,5,]\n",
       "<span style=\"color: rgb(0, 187, 187)\"><span class=\"ansi-cyan-fg\">thread2</span></span>: <span style=\"color: rgb(0, 187, 0)\"><span class=\"ansi-green-fg\">Thread</span></span> = Thread[#165,Thread2,5,]\n",
       "<span style=\"color: rgb(0, 187, 187)\"><span class=\"ansi-cyan-fg\">thread3</span></span>: <span style=\"color: rgb(0, 187, 0)\"><span class=\"ansi-green-fg\">Thread</span></span> = Thread[#166,Thread3,5,]\n",
       "<span style=\"color: rgb(0, 187, 187)\"><span class=\"ansi-cyan-fg\">future</span></span>: <span style=\"color: rgb(0, 187, 0)\"><span class=\"ansi-green-fg\">Future</span></span>[<span style=\"color: rgb(0, 187, 0)\"><span class=\"ansi-green-fg\">String</span></span>] = <span style=\"color: rgb(0, 187, 0)\"><span class=\"ansi-green-fg\"><span style=\"color: yellow\"><span class=\"ansi-yellow-fg\">Success</span></span>(value = <span style=\"color: rgb(0, 187, 0)\"><span class=\"ansi-green-fg\">&quot;Thread Thread3 Found 1567&quot;</span></span>)</span></span></code></pre>\n",
       "</div>"
      ],
      "text/plain": [
       "\u001b[32mimport \u001b[39m\u001b[36mscala.util.Random\u001b[39m\n",
       "\u001b[32mimport \u001b[39m\u001b[36mscala.concurrent.{Future, Promise}\u001b[39m\n",
       "\u001b[32mimport \u001b[39m\u001b[36mscala.concurrent.ExecutionContext.Implicits.global\u001b[39m\n",
       "\u001b[36mpromise\u001b[39m: \u001b[32mPromise\u001b[39m[\u001b[32mString\u001b[39m] = \u001b[32m\u001b[33mSuccess\u001b[39m(value = \u001b[32m\"Thread Thread3 Found 1567\"\u001b[39m)\u001b[39m\n",
       "defined \u001b[32mfunction\u001b[39m \u001b[36mrandomFunc\u001b[39m\n",
       "\u001b[36mthread1\u001b[39m: \u001b[32mThread\u001b[39m = Thread[#164,Thread1,5,]\n",
       "\u001b[36mthread2\u001b[39m: \u001b[32mThread\u001b[39m = Thread[#165,Thread2,5,]\n",
       "\u001b[36mthread3\u001b[39m: \u001b[32mThread\u001b[39m = Thread[#166,Thread3,5,]\n",
       "\u001b[36mfuture\u001b[39m: \u001b[32mFuture\u001b[39m[\u001b[32mString\u001b[39m] = \u001b[32m\u001b[33mSuccess\u001b[39m(value = \u001b[32m\"Thread Thread3 Found 1567\"\u001b[39m)\u001b[39m"
      ]
     },
     "metadata": {},
     "output_type": "display_data"
    }
   ],
   "source": [
    "import scala.util.Random\n",
    "import scala.concurrent.{Future, Promise}\n",
    "import scala.concurrent.ExecutionContext.Implicits.global\n",
    "val promise:Promise[String]=Promise[String]()\n",
    "\n",
    "// val check:Boolean=false\n",
    "\n",
    "\n",
    "// def runMain():Unit{\n",
    "\n",
    "//   while()\n",
    "\n",
    "// }\n",
    "\n",
    "def randomFunc():Unit={\n",
    "  val random = new Random()\n",
    "    while(!promise.future.isCompleted){\n",
    "        \n",
    "            val randomIntInRange = random.nextInt(10000) // Random int between 0 and 99\n",
    "            // println(s\"Thread ${Thread.currentThread().getName()} generated: $randomIntInRange\")\n",
    "            \n",
    "            if(randomIntInRange==1567){\n",
    "                promise.success(s\"Thread ${Thread.currentThread().getName()} Found 1567\")\n",
    "                return\n",
    "            }\n",
    "\n",
    "       } \n",
    "}\n",
    "\n",
    "val thread1:Thread = new Thread(new Runnable {\n",
    "        def run(): Unit = {\n",
    "           randomFunc()\n",
    "   \n",
    "        }\n",
    "      })\n",
    "val thread2:Thread = new Thread(new Runnable {\n",
    "        def run(): Unit = {\n",
    "            randomFunc()\n",
    "        }\n",
    "      })\n",
    "val thread3:Thread = new Thread(new Runnable {\n",
    "        val random = new Random()\n",
    "        def run(): Unit = {\n",
    "            randomFunc()\n",
    "        }\n",
    "      })\n",
    "thread1.setName(\"Thread1\")\n",
    "thread2.setName(\"Thread2\")\n",
    "thread3.setName(\"Thread3\")\n",
    "\n",
    "val future:Future[String]=promise.future\n",
    "\n",
    "thread1.start()\n",
    "thread2.start()\n",
    "thread3.start()\n",
    "\n",
    "future.onComplete{\n",
    "    case scala.util.Success(value) =>{ println(value)}\n",
    "    case scala.util.Failure(exception) => println(exception)\n",
    "}\n",
    "\n",
    "\n",
    "\n",
    "\n",
    "\n",
    "\n"
   ]
  }
 ],
 "metadata": {
  "kernelspec": {
   "display_name": "Scala",
   "language": "scala",
   "name": "scala"
  },
  "language_info": {
   "codemirror_mode": "text/x-scala",
   "file_extension": ".sc",
   "mimetype": "text/x-scala",
   "name": "scala",
   "nbconvert_exporter": "script",
   "version": "2.13.14"
  }
 },
 "nbformat": 4,
 "nbformat_minor": 2
}
