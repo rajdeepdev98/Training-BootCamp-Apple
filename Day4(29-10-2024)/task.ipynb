{
 "cells": [
  {
   "cell_type": "markdown",
   "metadata": {},
   "source": [
    "## Object Oriented Programming\n",
    "\n",
    "### Implemented concepts\n",
    "\n",
    "* Encapsulation -> instance variables, access specifiers, class methods\n",
    "* Inheritance -> Subclass, superclass\n",
    "* Abstraction -> abstract class,  trait\n",
    "* Polymorphism -> method overloading(compile time polymorphism) ,method overriding(runtime polymorphism)\n",
    "* Operator overloading"
   ]
  },
  {
   "cell_type": "markdown",
   "metadata": {
    "vscode": {
     "languageId": "plaintext"
    }
   },
   "source": [
    "##### Parent Class ->\n",
    "\n",
    "##### Creating a Class with Primary Constructor, Secondary Constructor, public variables, private variables,static variables->Companion Object"
   ]
  },
  {
   "cell_type": "markdown",
   "metadata": {},
   "source": [
    "* Here a Class Animal has been defined with 4 member variables->name,food,habitat and carnivore\n",
    "* The fields name and food are public,habitat is protected and carnivore is private\n",
    "* Have implemented constructor overloading in the next block as well\n",
    "* Have also implemented a Companion object having a field 'country' which mimicks static fields from other Object Oriented Programming Languages\n",
    "* Comments are there at appropriate places to explain the output\n"
   ]
  },
  {
   "cell_type": "code",
   "execution_count": 16,
   "metadata": {},
   "outputs": [
    {
     "name": "stdout",
     "output_type": "stream",
     "text": [
      "name = dog, food= dogfood , habitat = home ,carnivore = true\n",
      "dog\n",
      "INDIA\n"
     ]
    },
    {
     "data": {
      "text/plain": [
       "defined \u001b[32mclass\u001b[39m \u001b[36mAnimal\u001b[39m\n",
       "defined \u001b[32mobject\u001b[39m \u001b[36mAnimal\u001b[39m\n",
       "defined \u001b[32mfunction\u001b[39m \u001b[36mmain\u001b[39m"
      ]
     },
     "execution_count": 16,
     "metadata": {},
     "output_type": "execute_result"
    }
   ],
   "source": [
    "// class ClassName(param1: Type1) {->Primary Constructor\n",
    "//   // Primary constructor body\n",
    "\n",
    "//   def this(param1: Type1, param2: Type2) = { ---->Secondary Constructor\n",
    "//     this(param1) // Call the primary constructor\n",
    "//     // Additional initialization code\n",
    "//   }\n",
    "// }\n",
    "\n",
    "\n",
    "\n",
    "class Animal( var name:String=\"dog\", var food:String){//Primary Constructor\n",
    "\n",
    "    // var p:String=\"roger\"\n",
    "\n",
    "    // private var name:String=animalName\n",
    "    // var abc:String=\"ssdadad\"\n",
    "    protected var habitat:String=null\n",
    "\n",
    "    private var carnivore:Boolean=false\n",
    "    \n",
    "\n",
    "    def this(  name:String,  food:String, habitat:String,carnivore:Boolean)={\n",
    "\n",
    "        // println(\"lol\")-> cant have  any other statement before class initialization through constructor\n",
    "        \n",
    "        // this.p=\"lol\"\n",
    "        this(name,food)\n",
    "    \n",
    "        this.habitat=habitat\n",
    "        this.carnivore=carnivore\n",
    "        // this.carnivore=carnivore\n",
    "        \n",
    "\n",
    "            //this(animalName); //Secondary constructors\n",
    "    }\n",
    "\n",
    "   \n",
    "\n",
    "\n",
    "   def getName():String={\n",
    "\n",
    "        this.name\n",
    "    }\n",
    "\n",
    "   def getFood():String={\n",
    "\n",
    "        this.food\n",
    "   }\n",
    "   def getHabitat():String={\n",
    "    \n",
    "        this.habitat\n",
    "   }\n",
    "   \n",
    "\n",
    "   override def toString():String={\n",
    "\n",
    "        s\"name = ${this.name}, food= ${this.food} , habitat = ${this.habitat} ,carnivore = ${this.carnivore}\"\n",
    "   }\n",
    "\n",
    "\n",
    "//    def getFood():String={\n",
    "\n",
    "//         this.food\n",
    "//    }\n",
    "\n",
    "\n",
    "}\n",
    "object Animal{\n",
    "\n",
    "    var country:String=\"INDIA\" //-> \n",
    "}\n",
    "\n",
    "def main()={\n",
    "\n",
    "    val dog=new Animal(\"dog\",\"dogfood\",\"home\",true)\n",
    "    // println(dog.getName())\n",
    "    // // dog.animalName=\"doggy\"\n",
    "    // println(dog.getName())\n",
    "\n",
    "    println(dog) \n",
    "\n",
    "    println(dog.name)//->Prints dog->as its a public field\n",
    "\n",
    "    // println(dog.carnivore)//->throws exception as its a private field\n",
    "    println(Animal.country) // Mimicking static variables in Java using Companion object  --> Prints INDIA\n",
    "\n",
    "\n",
    "\n",
    "    // println(dog.lol)\n",
    "    // println(Animal.lol)\n",
    "}\n",
    "main()"
   ]
  },
  {
   "cell_type": "markdown",
   "metadata": {},
   "source": [
    "#### Implementing Method Overloading here"
   ]
  },
  {
   "cell_type": "code",
   "execution_count": 17,
   "metadata": {},
   "outputs": [
    {
     "name": "stdout",
     "output_type": "stream",
     "text": [
      "3\n",
      "6\n"
     ]
    },
    {
     "data": {
      "text/plain": [
       "defined \u001b[32mclass\u001b[39m \u001b[36mMyMath\u001b[39m\n",
       "\u001b[36mmymath\u001b[39m: \u001b[32mMyMath\u001b[39m = ammonite.$sess.cmd17$Helper$MyMath@644964ab"
      ]
     },
     "execution_count": 17,
     "metadata": {},
     "output_type": "execute_result"
    }
   ],
   "source": [
    "class MyMath{\n",
    "\n",
    "    //adding two numbers\n",
    "    def add(a:Int,b:Int):Int={\n",
    "            a+b\n",
    "    }\n",
    "    //adding three numbers\n",
    "    def add(a:Int,b:Int,c:Int):Int={\n",
    "        a+b+c\n",
    "    }\n",
    "}\n",
    "\n",
    "val mymath:MyMath=new MyMath()\n",
    "\n",
    "//here we have implemented two 'add' methods ,but with  different signatures->We have implemented constructor overloading\n",
    "\n",
    "println(mymath.add(1,2))//prints 3\n",
    "\n",
    "println(mymath.add(1,2,3))//prints 6"
   ]
  },
  {
   "cell_type": "markdown",
   "metadata": {},
   "source": [
    "#### Inheritance example\n",
    "* Here we have created a class 'Animal' again and Inherited the class in two subclasses ->Dog, and Cat\n",
    "* The method  'sound()' from the parent class 'Animal' is overriden in both the child classes"
   ]
  },
  {
   "cell_type": "code",
   "execution_count": 18,
   "metadata": {},
   "outputs": [
    {
     "name": "stdout",
     "output_type": "stream",
     "text": [
      "Animal makes a sound\n",
      "Dog barks\n",
      "Cat meows\n"
     ]
    },
    {
     "data": {
      "text/plain": [
       "defined \u001b[32mclass\u001b[39m \u001b[36mAnimal\u001b[39m\n",
       "defined \u001b[32mclass\u001b[39m \u001b[36mDog\u001b[39m\n",
       "defined \u001b[32mclass\u001b[39m \u001b[36mCat\u001b[39m\n",
       "\u001b[36mmyAnimal\u001b[39m: \u001b[32mAnimal\u001b[39m = ammonite.$sess.cmd18$Helper$Animal@57719737\n",
       "\u001b[36mmyDog\u001b[39m: \u001b[32mAnimal\u001b[39m = ammonite.$sess.cmd18$Helper$Dog@694e21fe\n",
       "\u001b[36mmyCat\u001b[39m: \u001b[32mAnimal\u001b[39m = ammonite.$sess.cmd18$Helper$Cat@4c9e57c3"
      ]
     },
     "execution_count": 18,
     "metadata": {},
     "output_type": "execute_result"
    }
   ],
   "source": [
    "// Superclass\n",
    "class Animal {\n",
    "  def sound(): Unit = {\n",
    "    println(\"Animal makes a sound\")\n",
    "  }\n",
    "}\n",
    "\n",
    "// Subclass\n",
    "class Dog extends Animal {\n",
    "  override def sound(): Unit = {\n",
    "    println(\"Dog barks\")\n",
    "  }\n",
    "}\n",
    "\n",
    "// Subclass\n",
    "class Cat extends Animal {\n",
    "  override def sound(): Unit = {\n",
    "    println(\"Cat meows\")\n",
    "  }\n",
    "}\n",
    "\n",
    "//printing the results of the overriden methods\n",
    "  val myAnimal: Animal = new Animal()\n",
    "  myAnimal.sound() // Output: Animal makes a sound\n",
    "\n",
    "  val myDog: Animal = new Dog()\n",
    "  myDog.sound()   // Output: Dog barks\n",
    "\n",
    "  val myCat: Animal = new Cat()\n",
    "  myCat.sound()   // Output: Cat meows\n",
    "\n"
   ]
  },
  {
   "cell_type": "markdown",
   "metadata": {},
   "source": [
    "#### Case class example\n",
    "* In Scala, a case class is a special type of class that is primarily used for modeling immutable data. They provide a concise syntax and automatically come with useful methods such as toString, equals, and hashCode, which makes them ideal for use in functional programming"
   ]
  },
  {
   "cell_type": "code",
   "execution_count": 19,
   "metadata": {},
   "outputs": [
    {
     "name": "stdout",
     "output_type": "stream",
     "text": [
      "Name: Alice, Age: 30\n",
      "Name: Alice, Age: 31\n",
      "Matched! Name: Alice, Age: 30\n",
      "true\n"
     ]
    },
    {
     "data": {
      "text/plain": [
       "defined \u001b[32mclass\u001b[39m \u001b[36mPerson\u001b[39m\n",
       "\u001b[36mperson1\u001b[39m: \u001b[32mPerson\u001b[39m = \u001b[33mPerson\u001b[39m(name = \u001b[32m\"Alice\"\u001b[39m, age = \u001b[32m30\u001b[39m)\n",
       "\u001b[36mperson2\u001b[39m: \u001b[32mPerson\u001b[39m = \u001b[33mPerson\u001b[39m(name = \u001b[32m\"Alice\"\u001b[39m, age = \u001b[32m31\u001b[39m)\n",
       "\u001b[36mperson3\u001b[39m: \u001b[32mPerson\u001b[39m = \u001b[33mPerson\u001b[39m(name = \u001b[32m\"Alice\"\u001b[39m, age = \u001b[32m30\u001b[39m)"
      ]
     },
     "execution_count": 19,
     "metadata": {},
     "output_type": "execute_result"
    }
   ],
   "source": [
    "case class Person(name: String, age: Int) //creating the case class\n",
    "\n",
    "// Creating an instance of the case class\n",
    "val person1 = Person(\"Alice\", 30)\n",
    "\n",
    "// Accessing fields\n",
    "println(s\"Name: ${person1.name}, Age: ${person1.age}\")  // Output: Name: Alice, Age: 30\n",
    "\n",
    "// Using the copy method to create a modified instance\n",
    "val person2 = person1.copy(age = 31)\n",
    "println(s\"Name: ${person2.name}, Age: ${person2.age}\")  // Output: Name: Alice, Age: 31\n",
    "\n",
    "// Pattern matching\n",
    "person1 match {\n",
    "    case Person(name, age) => println(s\"Matched! Name: $name, Age: $age\")  // Output: Matched! Name: Alice, Age: 30\n",
    "}\n",
    "\n",
    "// Checking equality\n",
    "val person3 = Person(\"Alice\", 30)\n",
    "println(person1 == person3)  // Output: true"
   ]
  },
  {
   "cell_type": "markdown",
   "metadata": {},
   "source": [
    "#### Abstract classes and traits\n",
    "* Abstract classes and traits are used to implement abstraction\n",
    "* These are used to define a contract/structure as to how a class should function\n"
   ]
  },
  {
   "cell_type": "markdown",
   "metadata": {},
   "source": [
    "#### Abstract class\n",
    "* Abstract classes have abstract methods->(methods without any definition as well )as concrete methods->(methods with definition)\n",
    "* Abstract classes do not support multiple inheritance( Mainly because of Diamond Problem)"
   ]
  },
  {
   "cell_type": "code",
   "execution_count": 20,
   "metadata": {},
   "outputs": [
    {
     "name": "stdout",
     "output_type": "stream",
     "text": [
      "Bark\n",
      "Meow\n"
     ]
    },
    {
     "data": {
      "text/html": [
       "<div class=\"jp-RenderedText\">\n",
       "<pre><code>defined <span style=\"color: rgb(0, 187, 0)\"><span class=\"ansi-green-fg\">class</span></span> <span style=\"color: rgb(0, 187, 187)\"><span class=\"ansi-cyan-fg\">Animal</span></span>\n",
       "defined <span style=\"color: rgb(0, 187, 0)\"><span class=\"ansi-green-fg\">class</span></span> <span style=\"color: rgb(0, 187, 187)\"><span class=\"ansi-cyan-fg\">Dog</span></span>\n",
       "defined <span style=\"color: rgb(0, 187, 0)\"><span class=\"ansi-green-fg\">class</span></span> <span style=\"color: rgb(0, 187, 187)\"><span class=\"ansi-cyan-fg\">Cat</span></span>\n",
       "<span style=\"color: rgb(0, 187, 187)\"><span class=\"ansi-cyan-fg\">animal1</span></span>: <span style=\"color: rgb(0, 187, 0)\"><span class=\"ansi-green-fg\">Animal</span></span> = ammonite.$sess.cmd20$Helper$Dog@c09f4cf\n",
       "<span style=\"color: rgb(0, 187, 187)\"><span class=\"ansi-cyan-fg\">animal2</span></span>: <span style=\"color: rgb(0, 187, 0)\"><span class=\"ansi-green-fg\">Animal</span></span> = ammonite.$sess.cmd20$Helper$Cat@4ba857d9</code></pre>\n",
       "</div>"
      ],
      "text/plain": [
       "defined \u001b[32mclass\u001b[39m \u001b[36mAnimal\u001b[39m\n",
       "defined \u001b[32mclass\u001b[39m \u001b[36mDog\u001b[39m\n",
       "defined \u001b[32mclass\u001b[39m \u001b[36mCat\u001b[39m\n",
       "\u001b[36manimal1\u001b[39m: \u001b[32mAnimal\u001b[39m = ammonite.$sess.cmd20$Helper$Dog@c09f4cf\n",
       "\u001b[36manimal2\u001b[39m: \u001b[32mAnimal\u001b[39m = ammonite.$sess.cmd20$Helper$Cat@4ba857d9"
      ]
     },
     "metadata": {},
     "output_type": "display_data"
    }
   ],
   "source": [
    "abstract class Animal {\n",
    "  def sound(): String      // Abstract method\n",
    "  def eat(): Unit = {      // Concrete method\n",
    "    println(\"Eating...\")\n",
    "  }\n",
    "}\n",
    "\n",
    "// Subclass\n",
    "class Dog extends Animal {\n",
    "  override def sound(): String = \"Bark\"\n",
    "}\n",
    "\n",
    "// Subclass\n",
    "class Cat extends Animal {\n",
    "  override def sound(): String = \"Meow\"\n",
    "}\n",
    "\n",
    "var animal1:Animal=new Dog()\n",
    "var animal2:Animal=new Cat()\n",
    "//runtime polymorphism happening as the 'sound' method corresponding to the respective class is run at runtime\n",
    "println(animal1.sound())\n",
    "println(animal2.sound())"
   ]
  },
  {
   "cell_type": "markdown",
   "metadata": {},
   "source": [
    "#### Trait\n",
    "* A trait is similar to an abstract class  but it can have multiple inheritance\n",
    "* Here we define two traits->CanFly and CanSwim and  have a class Duck which extends both(as it can both fly as well as swim)\n",
    "* A class Penguin is created as well to show that it can just swim\n",
    "* Here ,the creation of the class 'Duck' shows 'Multiple Inheritance'"
   ]
  },
  {
   "cell_type": "code",
   "execution_count": 21,
   "metadata": {},
   "outputs": [
    {
     "name": "stdout",
     "output_type": "stream",
     "text": [
      "I can fly!\n",
      "I can swim!\n",
      "Quack!\n",
      "I can swim!\n",
      "Honk!\n"
     ]
    },
    {
     "data": {
      "text/plain": [
       "defined \u001b[32mtrait\u001b[39m \u001b[36mCanFly\u001b[39m\n",
       "defined \u001b[32mtrait\u001b[39m \u001b[36mCanSwim\u001b[39m\n",
       "defined \u001b[32mclass\u001b[39m \u001b[36mDuck\u001b[39m\n",
       "defined \u001b[32mclass\u001b[39m \u001b[36mPenguin\u001b[39m\n",
       "\u001b[36mduck\u001b[39m: \u001b[32mDuck\u001b[39m = ammonite.$sess.cmd21$Helper$Duck@46d4825a\n",
       "\u001b[36mpenguin\u001b[39m: \u001b[32mPenguin\u001b[39m = ammonite.$sess.cmd21$Helper$Penguin@23cb370e"
      ]
     },
     "execution_count": 21,
     "metadata": {},
     "output_type": "execute_result"
    }
   ],
   "source": [
    "\n",
    "// Trait for flying capability\n",
    "trait CanFly {\n",
    "  def fly(): String = \"I can fly!\"\n",
    "}\n",
    "\n",
    "// Trait for swimming capability\n",
    "trait CanSwim {\n",
    "  def swim(): String = \"I can swim!\"\n",
    "}\n",
    "\n",
    "// Class that mixes in multiple traits\n",
    "class Duck extends CanFly with CanSwim {\n",
    "  def quack(): String = \"Quack!\"\n",
    "}\n",
    "\n",
    "// Class that mixes in multiple traits\n",
    "class Penguin extends CanSwim {\n",
    "  def honk(): String = \"Honk!\"\n",
    "}\n",
    "\n",
    "\n",
    "val duck = new Duck()\n",
    "println(duck.fly())    // Output: I can fly!\n",
    "println(duck.swim())   // Output: I can swim!\n",
    "println(duck.quack())  // Output: Quack!\n",
    "\n",
    "val penguin = new Penguin()\n",
    "println(penguin.swim()) // Output: I can swim!\n",
    "println(penguin.honk())  // Output: Honk!\n",
    "\n"
   ]
  },
  {
   "cell_type": "code",
   "execution_count": 22,
   "metadata": {},
   "outputs": [
    {
     "name": "stdout",
     "output_type": "stream",
     "text": [
      "5\n",
      "num = 5\n",
      "num = 5\n",
      "num = 6\n"
     ]
    },
    {
     "data": {
      "text/plain": [
       "defined \u001b[32mclass\u001b[39m \u001b[36mTest\u001b[39m\n",
       "\u001b[36mtest1\u001b[39m: \u001b[32mTest\u001b[39m = num = 5\n",
       "\u001b[36mtest2\u001b[39m: \u001b[32mTest\u001b[39m = num = 6"
      ]
     },
     "execution_count": 22,
     "metadata": {},
     "output_type": "execute_result"
    }
   ],
   "source": [
    "class Test( val num:Int){\n",
    "\n",
    "    \n",
    "\n",
    "    def +(other:Test):Test={\n",
    "        // println(s\"other.num = ${other.num}\")\n",
    "        new Test(this.num+other.num)\n",
    "    }\n",
    "    override def toString():String={\n",
    "\n",
    "        s\"num = ${this.num}\"\n",
    "    }\n",
    "\n",
    "}\n",
    "\n",
    "val test1:Test=new Test(5);\n",
    "val test2:Test=new Test(6);\n",
    "println(test1.num)\n",
    "\n",
    "// val test3:Test=test1+test2\n",
    "println(test3)\n",
    "println(test1)\n",
    "println(test2)"
   ]
  },
  {
   "cell_type": "markdown",
   "metadata": {},
   "source": [
    "#### Operator Overloading\n",
    "* Operator overloading in Scala allows us to define the behavior of standard operators (like +, -, *, etc.) for our own classes. This makes the classes more intuitive and easier to use, especially when modelling mathematical entities or data structures"
   ]
  },
  {
   "cell_type": "code",
   "execution_count": 24,
   "metadata": {},
   "outputs": [
    {
     "name": "stdout",
     "output_type": "stream",
     "text": [
      "Sum: Point(6, 8)\n",
      "Difference: Point(-2, -2)\n",
      "Scaled: Point(4, 6)\n"
     ]
    },
    {
     "data": {
      "text/plain": [
       "defined \u001b[32mclass\u001b[39m \u001b[36mPoint\u001b[39m\n",
       "\u001b[36mp1\u001b[39m: \u001b[32mPoint\u001b[39m = Point(2, 3)\n",
       "\u001b[36mp2\u001b[39m: \u001b[32mPoint\u001b[39m = Point(4, 5)\n",
       "\u001b[36msum\u001b[39m: \u001b[32mPoint\u001b[39m = Point(6, 8)\n",
       "\u001b[36mdifference\u001b[39m: \u001b[32mPoint\u001b[39m = Point(-2, -2)\n",
       "\u001b[36mscaled\u001b[39m: \u001b[32mPoint\u001b[39m = Point(4, 6)"
      ]
     },
     "execution_count": 24,
     "metadata": {},
     "output_type": "execute_result"
    }
   ],
   "source": [
    "// Define a Point class->Complex number\n",
    "class Point(val x: Int, val y: Int) {\n",
    "\n",
    "  // Overloading the + operator\n",
    "  def +(other: Point): Point = {\n",
    "    new Point(this.x + other.x, this.y + other.y)\n",
    "  }\n",
    "\n",
    "  // Overloading the - operator\n",
    "  def -(other: Point): Point = {\n",
    "   new  Point(this.x - other.x, this.y - other.y)\n",
    "  }\n",
    "\n",
    "  // Overloading the * operator\n",
    "  def *(scalar: Int): Point = {\n",
    "    new Point(this.x * scalar, this.y * scalar)\n",
    "  }\n",
    "\n",
    "  // To display the point\n",
    "  override def toString(): String = s\"Point($x, $y)\"\n",
    "}\n",
    "\n",
    "\n",
    "  val p1 :Point= new Point(2, 3)\n",
    "  val p2 :Point= new Point(4, 5)\n",
    "\n",
    "  val sum:Point = p1 + p2        // Point(6, 8)\n",
    "  val difference:Point = p1 - p2 // Point(-2, -2)\n",
    "  val scaled:Point = p1 * 2      // Point(4, 6)\n",
    "\n",
    "  println(s\"Sum: $sum\")          // Output: Sum: Point(6, 8)\n",
    "  println(s\"Difference: $difference\") // Output: Difference: Point(-2, -2)\n",
    "  println(s\"Scaled: $scaled\")    // Output: Scaled: Point(4, 6)\n",
    "\n"
   ]
  }
 ],
 "metadata": {
  "kernelspec": {
   "display_name": "Scala",
   "language": "scala",
   "name": "scala"
  },
  "language_info": {
   "codemirror_mode": "text/x-scala",
   "file_extension": ".sc",
   "mimetype": "text/x-scala",
   "name": "scala",
   "nbconvert_exporter": "script",
   "version": "2.13.14"
  }
 },
 "nbformat": 4,
 "nbformat_minor": 2
}
