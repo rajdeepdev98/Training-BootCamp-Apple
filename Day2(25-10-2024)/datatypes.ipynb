{
 "cells": [
  {
   "cell_type": "markdown",
   "metadata": {},
   "source": [
    "## The basic data types including Int,Double, Boolean, String, Char"
   ]
  },
  {
   "cell_type": "markdown",
   "metadata": {},
   "source": [
    "#### Checking for Integer"
   ]
  },
  {
   "cell_type": "code",
   "execution_count": 26,
   "metadata": {},
   "outputs": [
    {
     "name": "stdout",
     "output_type": "stream",
     "text": [
      "The type of variable a is: int\n",
      "The type of variable a is: int\n"
     ]
    },
    {
     "data": {
      "text/html": [
       "<div class=\"jp-RenderedText\">\n",
       "<pre><code><span style=\"color: rgb(0, 187, 187)\"><span class=\"ansi-cyan-fg\">a</span></span>: <span style=\"color: rgb(0, 187, 0)\"><span class=\"ansi-green-fg\">Int</span></span> = <span style=\"color: rgb(0, 187, 0)\"><span class=\"ansi-green-fg\">10</span></span>\n",
       "<span style=\"color: rgb(0, 187, 187)\"><span class=\"ansi-cyan-fg\">b</span></span>: <span style=\"color: rgb(0, 187, 0)\"><span class=\"ansi-green-fg\">Int</span></span> = <span style=\"color: rgb(0, 187, 0)\"><span class=\"ansi-green-fg\">60</span></span>\n",
       "<span style=\"color: rgb(0, 187, 187)\"><span class=\"ansi-cyan-fg\">c</span></span>: <span style=\"color: rgb(0, 187, 0)\"><span class=\"ansi-green-fg\">Int</span></span> = <span style=\"color: rgb(0, 187, 0)\"><span class=\"ansi-green-fg\">5</span></span></code></pre>\n",
       "</div>"
      ],
      "text/plain": [
       "\u001b[36ma\u001b[39m: \u001b[32mInt\u001b[39m = \u001b[32m10\u001b[39m\n",
       "\u001b[36mb\u001b[39m: \u001b[32mInt\u001b[39m = \u001b[32m60\u001b[39m\n",
       "\u001b[36mc\u001b[39m: \u001b[32mInt\u001b[39m = \u001b[32m5\u001b[39m"
      ]
     },
     "metadata": {},
     "output_type": "display_data"
    }
   ],
   "source": [
    "val a=10 //this is an Integer\n",
    "\n",
    "println(s\"The type of variable a is: ${a.getClass.getName}\")\n",
    "\n",
    "val b:Int =60\n",
    "\n",
    "println(s\"The type of variable a is: ${b.getClass.getName}\")\n",
    "\n",
    "var c:Int=5\n",
    "//c=6.5//this doesnt work\n",
    "\n"
   ]
  },
  {
   "cell_type": "markdown",
   "metadata": {},
   "source": [
    "#### Double for decimal"
   ]
  },
  {
   "cell_type": "code",
   "execution_count": 19,
   "metadata": {},
   "outputs": [
    {
     "name": "stdout",
     "output_type": "stream",
     "text": [
      "The type of variable d is: double\n",
      "The value of d is 7.0"
     ]
    },
    {
     "data": {
      "text/html": [
       "<div class=\"jp-RenderedText\">\n",
       "<pre><code><span style=\"color: rgb(0, 187, 187)\"><span class=\"ansi-cyan-fg\">d</span></span>: <span style=\"color: rgb(0, 187, 0)\"><span class=\"ansi-green-fg\">Double</span></span> = <span style=\"color: rgb(0, 187, 0)\"><span class=\"ansi-green-fg\">7.0</span></span></code></pre>\n",
       "</div>"
      ],
      "text/plain": [
       "\u001b[36md\u001b[39m: \u001b[32mDouble\u001b[39m = \u001b[32m7.0\u001b[39m"
      ]
     },
     "metadata": {},
     "output_type": "display_data"
    }
   ],
   "source": [
    "var d=5.6\n",
    "println(s\"The type of variable d is: ${d.getClass.getName}\")//prints double\n",
    "\n",
    "d=7\n",
    "print(s\"The value of d is $d\")"
   ]
  },
  {
   "cell_type": "markdown",
   "metadata": {},
   "source": [
    "#### Char and String"
   ]
  },
  {
   "cell_type": "code",
   "execution_count": 1,
   "metadata": {},
   "outputs": [
    {
     "name": "stdout",
     "output_type": "stream",
     "text": [
      "c\n",
      "The type of variable eChar is: char\n",
      "Abc\n",
      "The type of variable fString is: java.lang.String\n"
     ]
    },
    {
     "data": {
      "text/html": [
       "<div class=\"jp-RenderedText\">\n",
       "<pre><code><span style=\"color: rgb(0, 187, 187)\"><span class=\"ansi-cyan-fg\">eChar</span></span>: <span style=\"color: rgb(0, 187, 0)\"><span class=\"ansi-green-fg\">Char</span></span> = <span style=\"color: rgb(0, 187, 0)\"><span class=\"ansi-green-fg\">'c'</span></span>\n",
       "<span style=\"color: rgb(0, 187, 187)\"><span class=\"ansi-cyan-fg\">fString</span></span>: <span style=\"color: rgb(0, 187, 0)\"><span class=\"ansi-green-fg\">String</span></span> = <span style=\"color: rgb(0, 187, 0)\"><span class=\"ansi-green-fg\">&quot;Abc&quot;</span></span></code></pre>\n",
       "</div>"
      ],
      "text/plain": [
       "\u001b[36meChar\u001b[39m: \u001b[32mChar\u001b[39m = \u001b[32m'c'\u001b[39m\n",
       "\u001b[36mfString\u001b[39m: \u001b[32mString\u001b[39m = \u001b[32m\"Abc\"\u001b[39m"
      ]
     },
     "metadata": {},
     "output_type": "display_data"
    }
   ],
   "source": [
    "var eChar:Char ='c'\n",
    "println(eChar)\n",
    "println(s\"The type of variable eChar is: ${eChar.getClass.getName}\")//prints char\n",
    "\n",
    "val fString=\"Abc\"\n",
    "println(fString)\n",
    "println(s\"The type of variable fString is: ${fString.getClass.getName}\") //prints java.lang.String"
   ]
  },
  {
   "cell_type": "markdown",
   "metadata": {},
   "source": [
    "#### More on Strings"
   ]
  },
  {
   "cell_type": "markdown",
   "metadata": {},
   "source": [
    "##### String concatenation"
   ]
  },
  {
   "cell_type": "code",
   "execution_count": 4,
   "metadata": {},
   "outputs": [
    {
     "name": "stdout",
     "output_type": "stream",
     "text": [
      "Hello World\n"
     ]
    },
    {
     "data": {
      "text/html": [
       "<div class=\"jp-RenderedText\">\n",
       "<pre><code><span style=\"color: rgb(0, 187, 187)\"><span class=\"ansi-cyan-fg\">s1</span></span>: <span style=\"color: rgb(0, 187, 0)\"><span class=\"ansi-green-fg\">String</span></span> = <span style=\"color: rgb(0, 187, 0)\"><span class=\"ansi-green-fg\">&quot;Hello&quot;</span></span>\n",
       "<span style=\"color: rgb(0, 187, 187)\"><span class=\"ansi-cyan-fg\">s2</span></span>: <span style=\"color: rgb(0, 187, 0)\"><span class=\"ansi-green-fg\">String</span></span> = <span style=\"color: rgb(0, 187, 0)\"><span class=\"ansi-green-fg\">&quot;World&quot;</span></span>\n",
       "<span style=\"color: rgb(0, 187, 187)\"><span class=\"ansi-cyan-fg\">s3</span></span>: <span style=\"color: rgb(0, 187, 0)\"><span class=\"ansi-green-fg\">String</span></span> = <span style=\"color: rgb(0, 187, 0)\"><span class=\"ansi-green-fg\">&quot;Hello World&quot;</span></span></code></pre>\n",
       "</div>"
      ],
      "text/plain": [
       "\u001b[36ms1\u001b[39m: \u001b[32mString\u001b[39m = \u001b[32m\"Hello\"\u001b[39m\n",
       "\u001b[36ms2\u001b[39m: \u001b[32mString\u001b[39m = \u001b[32m\"World\"\u001b[39m\n",
       "\u001b[36ms3\u001b[39m: \u001b[32mString\u001b[39m = \u001b[32m\"Hello World\"\u001b[39m"
      ]
     },
     "metadata": {},
     "output_type": "display_data"
    }
   ],
   "source": [
    "var s1=\"Hello\"\n",
    "var s2=\"World\"\n",
    "var s3=s1+\" \" + s2\n",
    "println(s3)"
   ]
  },
  {
   "cell_type": "markdown",
   "metadata": {},
   "source": [
    "##### String methods"
   ]
  },
  {
   "cell_type": "code",
   "execution_count": 23,
   "metadata": {},
   "outputs": [
    {
     "name": "stdout",
     "output_type": "stream",
     "text": [
      "Hey! this is Rajdeep!\n",
      "21\n",
      "0\n",
      "1\n",
      "true\n",
      "true\n",
      "false\n",
      "Ra\n",
      "Hey! this is Rajdeep!\n",
      "rajdeep\n",
      "RAJDEEP\n",
      "rajdeep\n",
      "  Hello   \n",
      "Hello\n"
     ]
    },
    {
     "data": {
      "text/html": [
       "<div class=\"jp-RenderedText\">\n",
       "<pre><code><span style=\"color: rgb(0, 187, 187)\"><span class=\"ansi-cyan-fg\">s</span></span>: <span style=\"color: rgb(0, 187, 0)\"><span class=\"ansi-green-fg\">String</span></span> = <span style=\"color: rgb(0, 187, 0)\"><span class=\"ansi-green-fg\">&quot;Hey! this is Rajdeep!&quot;</span></span>\n",
       "<span style=\"color: rgb(0, 187, 187)\"><span class=\"ansi-cyan-fg\">s1</span></span>: <span style=\"color: rgb(0, 187, 0)\"><span class=\"ansi-green-fg\">String</span></span> = <span style=\"color: rgb(0, 187, 0)\"><span class=\"ansi-green-fg\">&quot;Rajdeep&quot;</span></span>\n",
       "<span style=\"color: rgb(0, 187, 187)\"><span class=\"ansi-cyan-fg\">s2</span></span>: <span style=\"color: rgb(0, 187, 0)\"><span class=\"ansi-green-fg\">String</span></span> = <span style=\"color: rgb(0, 187, 0)\"><span class=\"ansi-green-fg\">&quot;Rajdeep&quot;</span></span>\n",
       "<span style=\"color: rgb(0, 187, 187)\"><span class=\"ansi-cyan-fg\">sRep</span></span>: <span style=\"color: rgb(0, 187, 0)\"><span class=\"ansi-green-fg\">String</span></span> = <span style=\"color: rgb(0, 187, 0)\"><span class=\"ansi-green-fg\">&quot;rajdeep&quot;</span></span>\n",
       "<span style=\"color: rgb(0, 187, 187)\"><span class=\"ansi-cyan-fg\">sUp</span></span>: <span style=\"color: rgb(0, 187, 0)\"><span class=\"ansi-green-fg\">String</span></span> = <span style=\"color: rgb(0, 187, 0)\"><span class=\"ansi-green-fg\">&quot;RAJDEEP&quot;</span></span>\n",
       "<span style=\"color: rgb(0, 187, 187)\"><span class=\"ansi-cyan-fg\">sLow</span></span>: <span style=\"color: rgb(0, 187, 0)\"><span class=\"ansi-green-fg\">String</span></span> = <span style=\"color: rgb(0, 187, 0)\"><span class=\"ansi-green-fg\">&quot;rajdeep&quot;</span></span>\n",
       "<span style=\"color: rgb(0, 187, 187)\"><span class=\"ansi-cyan-fg\">sTrim</span></span>: <span style=\"color: rgb(0, 187, 0)\"><span class=\"ansi-green-fg\">String</span></span> = <span style=\"color: rgb(0, 187, 0)\"><span class=\"ansi-green-fg\">&quot;  Hello   &quot;</span></span></code></pre>\n",
       "</div>"
      ],
      "text/plain": [
       "\u001b[36ms\u001b[39m: \u001b[32mString\u001b[39m = \u001b[32m\"Hey! this is Rajdeep!\"\u001b[39m\n",
       "\u001b[36ms1\u001b[39m: \u001b[32mString\u001b[39m = \u001b[32m\"Rajdeep\"\u001b[39m\n",
       "\u001b[36ms2\u001b[39m: \u001b[32mString\u001b[39m = \u001b[32m\"Rajdeep\"\u001b[39m\n",
       "\u001b[36msRep\u001b[39m: \u001b[32mString\u001b[39m = \u001b[32m\"rajdeep\"\u001b[39m\n",
       "\u001b[36msUp\u001b[39m: \u001b[32mString\u001b[39m = \u001b[32m\"RAJDEEP\"\u001b[39m\n",
       "\u001b[36msLow\u001b[39m: \u001b[32mString\u001b[39m = \u001b[32m\"rajdeep\"\u001b[39m\n",
       "\u001b[36msTrim\u001b[39m: \u001b[32mString\u001b[39m = \u001b[32m\"  Hello   \"\u001b[39m"
      ]
     },
     "metadata": {},
     "output_type": "display_data"
    }
   ],
   "source": [
    "val s:String=\"Hey! this is Rajdeep!\"\n",
    "println(s)//normal printing\n",
    "\n",
    "\n",
    "//length\n",
    "println(s.length) //prints 21\n",
    "\n",
    "println(s.lengthCompare(21))//prints 0\n",
    "\n",
    "println(s.lengthCompare(5))//prints 1\n",
    "\n",
    "var s1:String=\"Rajdeep\"\n",
    "var s2=\"Rajdeep\"\n",
    "\n",
    "//comparison\n",
    "\n",
    "println(s1==s2)//prints true\n",
    "println(s1==\"Rajdeep\")//prints true\n",
    "println(s1==\"RD\") //false\n",
    "\n",
    "\n",
    "//substring\n",
    "println(s1.substring(0,2))//prints Ra\n",
    "\n",
    "//replace\n",
    "\n",
    "println(s)\n",
    "\n",
    "\n",
    "//String replace\n",
    "val sRep=s1.replace(\"R\",\"r\");\n",
    "println(sRep)\n",
    "\n",
    "//to UpperCase\n",
    "val sUp=sRep.toUpperCase\n",
    "println(sUp)\n",
    "\n",
    "//to Lowercase\n",
    "val sLow=sUp.toLowerCase\n",
    "println(sLow)\n",
    "\n",
    "val sTrim:String=\"  Hello   \"\n",
    "println(sTrim)\n",
    "\n",
    "//trimming WhiteSpace before and after\n",
    "println(sTrim.trim)\n",
    "\n",
    "\n",
    "\n",
    "\n",
    "\n",
    "\n",
    "\n",
    "\n",
    "\n"
   ]
  },
  {
   "cell_type": "markdown",
   "metadata": {},
   "source": [
    "##### Multi Line Strings"
   ]
  },
  {
   "cell_type": "code",
   "execution_count": 21,
   "metadata": {},
   "outputs": [
    {
     "name": "stdout",
     "output_type": "stream",
     "text": [
      "This is a multi-line string.\n",
      "It can span multiple lines,\n",
      "and it preserves the formatting.\n",
      "This is a multi-line string.\n",
      "It can span multiple lines,\n",
      "and it preserves the formatting.\n",
      "This is a multi-line string.\n",
      "It can span multiple lines,\n",
      "and it preserves the formatting.\n"
     ]
    },
    {
     "data": {
      "text/plain": [
       "\u001b[36mmultiLineString\u001b[39m: \u001b[32mString\u001b[39m = \u001b[32m\"\"\"This is a multi-line string.\n",
       "It can span multiple lines,\n",
       "and it preserves the formatting.\"\"\"\u001b[39m\n",
       "\u001b[36mmultiLineString2\u001b[39m: \u001b[32mString\u001b[39m = \u001b[32m\"\"\"This is a multi-line string.\n",
       "It can span multiple lines,\n",
       "and it preserves the formatting.\"\"\"\u001b[39m\n",
       "\u001b[36mmultiLineString3\u001b[39m: \u001b[32mString\u001b[39m = \u001b[32m\"\"\"This is a multi-line string.\n",
       "It can span multiple lines,\n",
       "and it preserves the formatting.\"\"\"\u001b[39m"
      ]
     },
     "execution_count": 21,
     "metadata": {},
     "output_type": "execute_result"
    }
   ],
   "source": [
    "val multiLineString = \"\"\"This is a multi-line string.\n",
    "It can span multiple lines,\n",
    "and it preserves the formatting.\"\"\"\n",
    "\n",
    "println(multiLineString)\n",
    "\n",
    "//now printing multiline Strings having different margin characters\n",
    "\n",
    "val multiLineString2 = \"\"\"This is a multi-line string.\n",
    "                        |It can span multiple lines,\n",
    "                        |and it preserves the formatting.\"\"\".stripMargin\n",
    "\n",
    "println(multiLineString2)\n",
    "\n",
    "val multiLineString3 = \"\"\"This is a multi-line string.\n",
    "                        *It can span multiple lines,\n",
    "                        *and it preserves the formatting.\"\"\".stripMargin('*')\n",
    "\n",
    "println(multiLineString3)\n"
   ]
  },
  {
   "cell_type": "markdown",
   "metadata": {},
   "source": [
    "#### Mutating a String\n",
    "\n",
    "Strings are immutable in Scala ,just like in Java\n",
    "For mutating strings,we could create new strings ,or use a mutable Stringbuilder\n"
   ]
  },
  {
   "cell_type": "code",
   "execution_count": 25,
   "metadata": {},
   "outputs": [
    {
     "name": "stdout",
     "output_type": "stream",
     "text": [
      "H\n",
      "H\n"
     ]
    },
    {
     "data": {
      "text/html": [
       "<div class=\"jp-RenderedText\">\n",
       "<pre><code><span style=\"color: rgb(0, 187, 187)\"><span class=\"ansi-cyan-fg\">s</span></span>: <span style=\"color: rgb(0, 187, 0)\"><span class=\"ansi-green-fg\">String</span></span> = <span style=\"color: rgb(0, 187, 0)\"><span class=\"ansi-green-fg\">&quot;Hello&quot;</span></span></code></pre>\n",
       "</div>"
      ],
      "text/plain": [
       "\u001b[36ms\u001b[39m: \u001b[32mString\u001b[39m = \u001b[32m\"Hello\"\u001b[39m"
      ]
     },
     "metadata": {},
     "output_type": "display_data"
    }
   ],
   "source": [
    "var s:String =\"Hello\"\n",
    "\n",
    "//Printing character at a particular position in a String using charAt method\n",
    "println(s.charAt(0))\n",
    "\n",
    "//indexing\n",
    "println(s(0))\n"
   ]
  },
  {
   "cell_type": "markdown",
   "metadata": {},
   "source": [
    "#### StringBuilder Example\n"
   ]
  },
  {
   "cell_type": "code",
   "execution_count": 30,
   "metadata": {},
   "outputs": [
    {
     "name": "stdout",
     "output_type": "stream",
     "text": [
      "Hii Rajdeep!\n",
      "Hiy Rajdeep!\n"
     ]
    },
    {
     "data": {
      "text/html": [
       "<div class=\"jp-RenderedText\">\n",
       "<pre><code><span style=\"color: rgb(0, 187, 187)\"><span class=\"ansi-cyan-fg\">builder</span></span>: <span style=\"color: rgb(0, 187, 0)\"><span class=\"ansi-green-fg\">StringBuilder</span></span> = <span style=\"color: yellow\"><span class=\"ansi-yellow-fg\">IndexedSeq</span></span>(\n",
       "  <span style=\"color: rgb(0, 187, 0)\"><span class=\"ansi-green-fg\">'H'</span></span>,\n",
       "  <span style=\"color: rgb(0, 187, 0)\"><span class=\"ansi-green-fg\">'i'</span></span>,\n",
       "  <span style=\"color: rgb(0, 187, 0)\"><span class=\"ansi-green-fg\">'y'</span></span>,\n",
       "  <span style=\"color: rgb(0, 187, 0)\"><span class=\"ansi-green-fg\">' '</span></span>,\n",
       "  <span style=\"color: rgb(0, 187, 0)\"><span class=\"ansi-green-fg\">'R'</span></span>,\n",
       "  <span style=\"color: rgb(0, 187, 0)\"><span class=\"ansi-green-fg\">'a'</span></span>,\n",
       "  <span style=\"color: rgb(0, 187, 0)\"><span class=\"ansi-green-fg\">'j'</span></span>,\n",
       "  <span style=\"color: rgb(0, 187, 0)\"><span class=\"ansi-green-fg\">'d'</span></span>,\n",
       "  <span style=\"color: rgb(0, 187, 0)\"><span class=\"ansi-green-fg\">'e'</span></span>,\n",
       "  <span style=\"color: rgb(0, 187, 0)\"><span class=\"ansi-green-fg\">'e'</span></span>,\n",
       "  <span style=\"color: rgb(0, 187, 0)\"><span class=\"ansi-green-fg\">'p'</span></span>,\n",
       "  <span style=\"color: rgb(0, 187, 0)\"><span class=\"ansi-green-fg\">'!'</span></span>\n",
       ")\n",
       "<span style=\"color: rgb(0, 187, 187)\"><span class=\"ansi-cyan-fg\">res30_1</span></span>: <span style=\"color: rgb(0, 187, 0)\"><span class=\"ansi-green-fg\">StringBuilder</span></span> = <span style=\"color: yellow\"><span class=\"ansi-yellow-fg\">IndexedSeq</span></span>(\n",
       "  <span style=\"color: rgb(0, 187, 0)\"><span class=\"ansi-green-fg\">'H'</span></span>,\n",
       "  <span style=\"color: rgb(0, 187, 0)\"><span class=\"ansi-green-fg\">'i'</span></span>,\n",
       "  <span style=\"color: rgb(0, 187, 0)\"><span class=\"ansi-green-fg\">'y'</span></span>,\n",
       "  <span style=\"color: rgb(0, 187, 0)\"><span class=\"ansi-green-fg\">' '</span></span>,\n",
       "  <span style=\"color: rgb(0, 187, 0)\"><span class=\"ansi-green-fg\">'R'</span></span>,\n",
       "  <span style=\"color: rgb(0, 187, 0)\"><span class=\"ansi-green-fg\">'a'</span></span>,\n",
       "  <span style=\"color: rgb(0, 187, 0)\"><span class=\"ansi-green-fg\">'j'</span></span>,\n",
       "  <span style=\"color: rgb(0, 187, 0)\"><span class=\"ansi-green-fg\">'d'</span></span>,\n",
       "  <span style=\"color: rgb(0, 187, 0)\"><span class=\"ansi-green-fg\">'e'</span></span>,\n",
       "  <span style=\"color: rgb(0, 187, 0)\"><span class=\"ansi-green-fg\">'e'</span></span>,\n",
       "  <span style=\"color: rgb(0, 187, 0)\"><span class=\"ansi-green-fg\">'p'</span></span>,\n",
       "  <span style=\"color: rgb(0, 187, 0)\"><span class=\"ansi-green-fg\">'!'</span></span>\n",
       ")\n",
       "<span style=\"color: rgb(0, 187, 187)\"><span class=\"ansi-cyan-fg\">res30_3</span></span>: <span style=\"color: rgb(0, 187, 0)\"><span class=\"ansi-green-fg\">StringBuilder</span></span> = <span style=\"color: yellow\"><span class=\"ansi-yellow-fg\">IndexedSeq</span></span>(\n",
       "  <span style=\"color: rgb(0, 187, 0)\"><span class=\"ansi-green-fg\">'H'</span></span>,\n",
       "  <span style=\"color: rgb(0, 187, 0)\"><span class=\"ansi-green-fg\">'i'</span></span>,\n",
       "  <span style=\"color: rgb(0, 187, 0)\"><span class=\"ansi-green-fg\">'y'</span></span>,\n",
       "  <span style=\"color: rgb(0, 187, 0)\"><span class=\"ansi-green-fg\">' '</span></span>,\n",
       "  <span style=\"color: rgb(0, 187, 0)\"><span class=\"ansi-green-fg\">'R'</span></span>,\n",
       "  <span style=\"color: rgb(0, 187, 0)\"><span class=\"ansi-green-fg\">'a'</span></span>,\n",
       "  <span style=\"color: rgb(0, 187, 0)\"><span class=\"ansi-green-fg\">'j'</span></span>,\n",
       "  <span style=\"color: rgb(0, 187, 0)\"><span class=\"ansi-green-fg\">'d'</span></span>,\n",
       "  <span style=\"color: rgb(0, 187, 0)\"><span class=\"ansi-green-fg\">'e'</span></span>,\n",
       "  <span style=\"color: rgb(0, 187, 0)\"><span class=\"ansi-green-fg\">'e'</span></span>,\n",
       "  <span style=\"color: rgb(0, 187, 0)\"><span class=\"ansi-green-fg\">'p'</span></span>,\n",
       "  <span style=\"color: rgb(0, 187, 0)\"><span class=\"ansi-green-fg\">'!'</span></span>\n",
       ")</code></pre>\n",
       "</div>"
      ],
      "text/plain": [
       "\u001b[36mbuilder\u001b[39m: \u001b[32mStringBuilder\u001b[39m = \u001b[33mIndexedSeq\u001b[39m(\n",
       "  \u001b[32m'H'\u001b[39m,\n",
       "  \u001b[32m'i'\u001b[39m,\n",
       "  \u001b[32m'y'\u001b[39m,\n",
       "  \u001b[32m' '\u001b[39m,\n",
       "  \u001b[32m'R'\u001b[39m,\n",
       "  \u001b[32m'a'\u001b[39m,\n",
       "  \u001b[32m'j'\u001b[39m,\n",
       "  \u001b[32m'd'\u001b[39m,\n",
       "  \u001b[32m'e'\u001b[39m,\n",
       "  \u001b[32m'e'\u001b[39m,\n",
       "  \u001b[32m'p'\u001b[39m,\n",
       "  \u001b[32m'!'\u001b[39m\n",
       ")\n",
       "\u001b[36mres30_1\u001b[39m: \u001b[32mStringBuilder\u001b[39m = \u001b[33mIndexedSeq\u001b[39m(\n",
       "  \u001b[32m'H'\u001b[39m,\n",
       "  \u001b[32m'i'\u001b[39m,\n",
       "  \u001b[32m'y'\u001b[39m,\n",
       "  \u001b[32m' '\u001b[39m,\n",
       "  \u001b[32m'R'\u001b[39m,\n",
       "  \u001b[32m'a'\u001b[39m,\n",
       "  \u001b[32m'j'\u001b[39m,\n",
       "  \u001b[32m'd'\u001b[39m,\n",
       "  \u001b[32m'e'\u001b[39m,\n",
       "  \u001b[32m'e'\u001b[39m,\n",
       "  \u001b[32m'p'\u001b[39m,\n",
       "  \u001b[32m'!'\u001b[39m\n",
       ")\n",
       "\u001b[36mres30_3\u001b[39m: \u001b[32mStringBuilder\u001b[39m = \u001b[33mIndexedSeq\u001b[39m(\n",
       "  \u001b[32m'H'\u001b[39m,\n",
       "  \u001b[32m'i'\u001b[39m,\n",
       "  \u001b[32m'y'\u001b[39m,\n",
       "  \u001b[32m' '\u001b[39m,\n",
       "  \u001b[32m'R'\u001b[39m,\n",
       "  \u001b[32m'a'\u001b[39m,\n",
       "  \u001b[32m'j'\u001b[39m,\n",
       "  \u001b[32m'd'\u001b[39m,\n",
       "  \u001b[32m'e'\u001b[39m,\n",
       "  \u001b[32m'e'\u001b[39m,\n",
       "  \u001b[32m'p'\u001b[39m,\n",
       "  \u001b[32m'!'\u001b[39m\n",
       ")"
      ]
     },
     "metadata": {},
     "output_type": "display_data"
    }
   ],
   "source": [
    "var builder= new StringBuilder(\"Hey Rajdeep!\")\n",
    "builder.replace(1,3,\"ii\");\n",
    "\n",
    "//start index ,end index\n",
    "\n",
    "println(builder.toString())//prints Hii Rajdeep!\n",
    "\n",
    "//replacing character at a particular position\n",
    "\n",
    "builder.setCharAt(2,'y');\n",
    "println(builder.toString())//prints Hiy Rajdeep!"
   ]
  },
  {
   "cell_type": "markdown",
   "metadata": {},
   "source": [
    "#### String splitting"
   ]
  },
  {
   "cell_type": "code",
   "execution_count": 32,
   "metadata": {},
   "outputs": [
    {
     "name": "stdout",
     "output_type": "stream",
     "text": [
      "[Ljava.lang.String;@452abad9\n",
      "[Ljava.lang.String;\n"
     ]
    },
    {
     "data": {
      "text/html": [
       "<div class=\"jp-RenderedText\">\n",
       "<pre><code><span style=\"color: rgb(0, 187, 187)\"><span class=\"ansi-cyan-fg\">s</span></span>: <span style=\"color: rgb(0, 187, 0)\"><span class=\"ansi-green-fg\">String</span></span> = <span style=\"color: rgb(0, 187, 0)\"><span class=\"ansi-green-fg\">&quot;Hii this is Rajdeep&quot;</span></span>\n",
       "<span style=\"color: rgb(0, 187, 187)\"><span class=\"ansi-cyan-fg\">split</span></span>: <span style=\"color: rgb(0, 187, 0)\"><span class=\"ansi-green-fg\">Array</span></span>[<span style=\"color: rgb(0, 187, 0)\"><span class=\"ansi-green-fg\">String</span></span>] = <span style=\"color: yellow\"><span class=\"ansi-yellow-fg\">Array</span></span>(<span style=\"color: rgb(0, 187, 0)\"><span class=\"ansi-green-fg\">&quot;Hii&quot;</span></span>, <span style=\"color: rgb(0, 187, 0)\"><span class=\"ansi-green-fg\">&quot;this&quot;</span></span>, <span style=\"color: rgb(0, 187, 0)\"><span class=\"ansi-green-fg\">&quot;is&quot;</span></span>, <span style=\"color: rgb(0, 187, 0)\"><span class=\"ansi-green-fg\">&quot;Rajdeep&quot;</span></span>)</code></pre>\n",
       "</div>"
      ],
      "text/plain": [
       "\u001b[36ms\u001b[39m: \u001b[32mString\u001b[39m = \u001b[32m\"Hii this is Rajdeep\"\u001b[39m\n",
       "\u001b[36msplit\u001b[39m: \u001b[32mArray\u001b[39m[\u001b[32mString\u001b[39m] = \u001b[33mArray\u001b[39m(\u001b[32m\"Hii\"\u001b[39m, \u001b[32m\"this\"\u001b[39m, \u001b[32m\"is\"\u001b[39m, \u001b[32m\"Rajdeep\"\u001b[39m)"
      ]
     },
     "metadata": {},
     "output_type": "display_data"
    }
   ],
   "source": [
    "var s:String =\"Hii this is Rajdeep\"\n",
    "\n",
    "var split=s.split(\" \");\n",
    "println(split)\n",
    "println(split.getClass.getName)"
   ]
  },
  {
   "cell_type": "markdown",
   "metadata": {},
   "source": [
    "#### Unit type in Scala is Analogous to Void type in C++-> which represents the absence of any other specific types"
   ]
  },
  {
   "cell_type": "markdown",
   "metadata": {},
   "source": [
    "#### Nothing and Nil"
   ]
  },
  {
   "cell_type": "markdown",
   "metadata": {},
   "source": [
    "##### Nothing is a subtype of all types in Scala. It represents a type that has no values. This means that you can use Nothing in place of any other type."
   ]
  },
  {
   "cell_type": "code",
   "execution_count": 34,
   "metadata": {},
   "outputs": [
    {
     "ename": "java.lang.RuntimeException",
     "evalue": "This method always fails",
     "output_type": "error",
     "traceback": [
      "\u001b[31mjava.lang.RuntimeException: This method always fails\u001b[39m",
      "  ammonite.$sess.cmd34$Helper.fail(\u001b[32mcmd34.sc\u001b[39m:\u001b[32m2\u001b[39m)",
      "  ammonite.$sess.cmd34$Helper.<init>(\u001b[32mcmd34.sc\u001b[39m:\u001b[32m4\u001b[39m)",
      "  ammonite.$sess.cmd34$.<clinit>(\u001b[32mcmd34.sc\u001b[39m:\u001b[32m7\u001b[39m)"
     ]
    }
   ],
   "source": [
    "//Indicates Non-terminating Code: It's often used to indicate that a method does not return normally (e.g., it throws an exception).\n",
    "def fail(): Nothing = throw new RuntimeException(\"This method always fails\")\n",
    "\n",
    "// fail()\n"
   ]
  },
  {
   "cell_type": "code",
   "execution_count": 35,
   "metadata": {},
   "outputs": [
    {
     "data": {
      "text/plain": [
       "\u001b[36memptyList\u001b[39m: \u001b[32mList\u001b[39m[\u001b[32mNothing\u001b[39m] = \u001b[33mList\u001b[39m()"
      ]
     },
     "execution_count": 35,
     "metadata": {},
     "output_type": "execute_result"
    }
   ],
   "source": [
    "//Empty Collections: When you have a collection that should not contain any elements, you can specify it as a collection of type Nothing.\n",
    "val emptyList: List[Nothing] = List()\n"
   ]
  },
  {
   "cell_type": "markdown",
   "metadata": {},
   "source": [
    "#### Nil\n",
    "##### Nil is a singleton object that represents an empty list. It is an instance of List[Nothing], meaning it can be treated as a list that contains no elements.\n",
    "Nil is primarily used to denote an empty list in Scala."
   ]
  },
  {
   "cell_type": "code",
   "execution_count": 36,
   "metadata": {},
   "outputs": [
    {
     "name": "stdout",
     "output_type": "stream",
     "text": [
      "List()\n"
     ]
    },
    {
     "data": {
      "text/plain": [
       "\u001b[36memptyList\u001b[39m: \u001b[32mNil\u001b[39m.type = \u001b[33mList\u001b[39m()\n",
       "\u001b[36mlistWithElements\u001b[39m: \u001b[32mList\u001b[39m[\u001b[32mInt\u001b[39m] = \u001b[33mList\u001b[39m(\u001b[32m1\u001b[39m, \u001b[32m2\u001b[39m, \u001b[32m3\u001b[39m)\n",
       "\u001b[36mlist\u001b[39m: \u001b[32mList\u001b[39m[\u001b[32mInt\u001b[39m] = \u001b[33mList\u001b[39m(\u001b[32m1\u001b[39m, \u001b[32m2\u001b[39m, \u001b[32m3\u001b[39m)\n",
       "\u001b[36mempty\u001b[39m: \u001b[32mList\u001b[39m[\u001b[32mInt\u001b[39m] = \u001b[33mList\u001b[39m()"
      ]
     },
     "execution_count": 36,
     "metadata": {},
     "output_type": "execute_result"
    }
   ],
   "source": [
    "val emptyList = Nil\n",
    "val listWithElements = 1 :: 2 :: 3 :: Nil\n",
    "\n",
    "val list = List(1, 2, 3)\n",
    "val empty = list.filter(_ > 3) // This results in Nil since no elements match\n",
    "\n",
    "println(empty) // Prints: List()\n"
   ]
  }
 ],
 "metadata": {
  "kernelspec": {
   "display_name": "Scala",
   "language": "scala",
   "name": "scala"
  },
  "language_info": {
   "codemirror_mode": "text/x-scala",
   "file_extension": ".sc",
   "mimetype": "text/x-scala",
   "name": "scala",
   "nbconvert_exporter": "script",
   "version": "2.13.14"
  }
 },
 "nbformat": 4,
 "nbformat_minor": 2
}
