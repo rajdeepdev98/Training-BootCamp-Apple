{
 "cells": [
  {
   "cell_type": "markdown",
   "metadata": {},
   "source": [
    "## Operators in Scala"
   ]
  },
  {
   "cell_type": "markdown",
   "metadata": {},
   "source": [
    "#### Arithmetic Operators -> Addition, Subtraction, Multiplication, Division,Modulo\n",
    "\n"
   ]
  },
  {
   "cell_type": "code",
   "execution_count": 1,
   "metadata": {},
   "outputs": [
    {
     "name": "stdout",
     "output_type": "stream",
     "text": [
      "13\n",
      "7\n",
      "30\n",
      "3\n",
      "1\n"
     ]
    },
    {
     "data": {
      "text/plain": [
       "\u001b[36ma\u001b[39m: \u001b[32mInt\u001b[39m = \u001b[32m10\u001b[39m\n",
       "\u001b[36mb\u001b[39m: \u001b[32mInt\u001b[39m = \u001b[32m3\u001b[39m"
      ]
     },
     "execution_count": 1,
     "metadata": {},
     "output_type": "execute_result"
    }
   ],
   "source": [
    "val a = 10\n",
    "val b = 3\n",
    "println(a + b) // 13->addition\n",
    "println(a - b) // 7->subtraction\n",
    "println(a * b) // 30->multiplication\n",
    "println(a / b) // 3->division\n",
    "println(a % b) // 1->modulo\n"
   ]
  },
  {
   "cell_type": "markdown",
   "metadata": {},
   "source": [
    "#### Relational Operators->equal to ,not equal to,greater than,less than, greater than or equal to, less than or equal to"
   ]
  },
  {
   "cell_type": "code",
   "execution_count": 3,
   "metadata": {},
   "outputs": [
    {
     "name": "stdout",
     "output_type": "stream",
     "text": [
      "false\n",
      "true\n",
      "true\n",
      "false\n",
      "true\n",
      "false\n"
     ]
    }
   ],
   "source": [
    "println(a == b) // false\n",
    "println(a != b) // true\n",
    "println(a > b)  // true\n",
    "println(a<b)//false\n",
    "println(a>=b)//true\n",
    "println(a<=b)//false\n"
   ]
  },
  {
   "cell_type": "markdown",
   "metadata": {},
   "source": [
    "#### Logical Operators -> logical AND,OR,NOT,XOR"
   ]
  },
  {
   "cell_type": "code",
   "execution_count": 4,
   "metadata": {},
   "outputs": [
    {
     "name": "stdout",
     "output_type": "stream",
     "text": [
      "false\n",
      "true\n",
      "false\n",
      "true\n"
     ]
    },
    {
     "data": {
      "text/plain": [
       "\u001b[36mx\u001b[39m: \u001b[32mBoolean\u001b[39m = \u001b[32mtrue\u001b[39m\n",
       "\u001b[36my\u001b[39m: \u001b[32mBoolean\u001b[39m = \u001b[32mfalse\u001b[39m"
      ]
     },
     "execution_count": 4,
     "metadata": {},
     "output_type": "execute_result"
    }
   ],
   "source": [
    "val x = true\n",
    "val y = false\n",
    "println(x && y) // false->AND\n",
    "println(x || y) // true->OR\n",
    "println(!x)     // false->NOT\n",
    "println(x^y)    // true->XOR\n"
   ]
  },
  {
   "cell_type": "markdown",
   "metadata": {},
   "source": [
    "#### Bitwise Operators->Bitwise OR,AND,NOT,XOR,LEFT SHIFT, RIGHT SHIFT"
   ]
  },
  {
   "cell_type": "code",
   "execution_count": 6,
   "metadata": {},
   "outputs": [
    {
     "name": "stdout",
     "output_type": "stream",
     "text": [
      "1\n",
      "7\n",
      "-6\n",
      "6\n",
      "8\n",
      "2\n"
     ]
    },
    {
     "data": {
      "text/plain": [
       "\u001b[36mm\u001b[39m: \u001b[32mInt\u001b[39m = \u001b[32m5\u001b[39m\n",
       "\u001b[36mn\u001b[39m: \u001b[32mInt\u001b[39m = \u001b[32m3\u001b[39m\n",
       "\u001b[36mo\u001b[39m: \u001b[32mInt\u001b[39m = \u001b[32m4\u001b[39m"
      ]
     },
     "execution_count": 6,
     "metadata": {},
     "output_type": "execute_result"
    }
   ],
   "source": [
    "val m = 5  // (0101 in binary)\n",
    "val n = 3  // (0011 in binary\n",
    "println(m & n) // 1  (0001 in binary)->Bitwise AND\n",
    "println(m | n) // 7  (0111 in binary)->Bitwise OR\n",
    "println(~m)    // 10 (1010 in binary)->Bitwise NOT\n",
    "println(m^n)   // 6  (0110 in binary)->Bitwise XOR\n",
    "\n",
    "\n",
    "val o=4 //0100 \n",
    "println(o<<1)  //   8(1000 in Binary)- Left shift\n",
    "\n",
    "println(o>>1)// 2(0010 in Binary) -> Right Shift"
   ]
  },
  {
   "cell_type": "markdown",
   "metadata": {},
   "source": [
    "#### Operators as methods\n",
    "* In Scala, you can define your own operators by creating methods with symbolic names(same as that of the operator ->Its kindof like operator overloading)\n",
    "* In the next section, we define a class Point having x and y coordinates as its members and define the operator '+' to add the x and y coordinates separately to get the final result in the new coordinate"
   ]
  },
  {
   "cell_type": "code",
   "execution_count": 7,
   "metadata": {},
   "outputs": [
    {
     "data": {
      "text/plain": [
       "defined \u001b[32mclass\u001b[39m \u001b[36mPoint\u001b[39m\n",
       "\u001b[36mp1\u001b[39m: \u001b[32mPoint\u001b[39m = ammonite.$sess.cmd7$Helper$Point@5a06d527\n",
       "\u001b[36mp2\u001b[39m: \u001b[32mPoint\u001b[39m = ammonite.$sess.cmd7$Helper$Point@6616dcc1\n",
       "\u001b[36mp3\u001b[39m: \u001b[32mPoint\u001b[39m = ammonite.$sess.cmd7$Helper$Point@6b78900b"
      ]
     },
     "execution_count": 7,
     "metadata": {},
     "output_type": "execute_result"
    }
   ],
   "source": [
    "\n",
    "class Point(val x: Int, val y: Int) {\n",
    "  def +(other: Point): Point = new Point(x + other.x, y + other.y)\n",
    "  def -(other: Point): Point = new Point(x - other.x, y - other.y)\n",
    "}\n",
    "\n",
    "val p1 = new Point(1, 2)\n",
    "val p2 = new Point(3, 4)\n",
    "val p3 = p1 + p2 // Uses the '+' operator"
   ]
  }
 ],
 "metadata": {
  "kernelspec": {
   "display_name": "Scala",
   "language": "scala",
   "name": "scala"
  },
  "language_info": {
   "codemirror_mode": "text/x-scala",
   "file_extension": ".sc",
   "mimetype": "text/x-scala",
   "name": "scala",
   "nbconvert_exporter": "script",
   "version": "2.13.14"
  }
 },
 "nbformat": 4,
 "nbformat_minor": 2
}
