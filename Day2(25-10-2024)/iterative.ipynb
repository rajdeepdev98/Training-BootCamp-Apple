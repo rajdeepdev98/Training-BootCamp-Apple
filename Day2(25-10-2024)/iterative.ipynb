{
 "cells": [
  {
   "cell_type": "markdown",
   "metadata": {},
   "source": [
    "## Iterators in Scala"
   ]
  },
  {
   "cell_type": "markdown",
   "metadata": {},
   "source": [
    "#### For loop\n"
   ]
  },
  {
   "cell_type": "code",
   "execution_count": 9,
   "metadata": {},
   "outputs": [
    {
     "name": "stdout",
     "output_type": "stream",
     "text": [
      "1\n",
      "2\n",
      "3\n",
      "4\n",
      "5\n",
      "\n",
      "1\n",
      "2\n",
      "3\n",
      "4\n",
      "\n",
      "2\n",
      "4\n",
      "6\n",
      "\n",
      "i=1 , j=1\n",
      "i=1 , j=2\n",
      "i=1 , j=3\n",
      "i=1 , j=4\n",
      "i=1 , j=5\n",
      "i=2 , j=1\n",
      "i=2 , j=2\n",
      "i=2 , j=3\n",
      "i=2 , j=4\n",
      "i=2 , j=5\n",
      "i=3 , j=1\n",
      "i=3 , j=2\n",
      "i=3 , j=3\n",
      "i=3 , j=4\n",
      "i=3 , j=5\n",
      "i=4 , j=1\n",
      "i=4 , j=2\n",
      "i=4 , j=3\n",
      "i=4 , j=4\n",
      "i=4 , j=5\n",
      "i=5 , j=1\n",
      "i=5 , j=2\n",
      "i=5 , j=3\n",
      "i=5 , j=4\n",
      "i=5 , j=5\n",
      "\n",
      "i=1 , j=1\n",
      "i=1 , j=2\n",
      "i=1 , j=3\n",
      "i=1 , j=4\n",
      "i=1 , j=5\n",
      "i=1 , j=6\n",
      "i=2 , j=1\n",
      "i=2 , j=2\n",
      "i=2 , j=3\n",
      "i=2 , j=4\n",
      "i=2 , j=5\n",
      "i=2 , j=6\n",
      "i=3 , j=1\n",
      "i=3 , j=2\n",
      "i=3 , j=3\n",
      "i=3 , j=4\n",
      "i=3 , j=5\n",
      "i=3 , j=6\n",
      "i=4 , j=1\n",
      "i=4 , j=2\n",
      "i=4 , j=3\n",
      "i=4 , j=4\n",
      "i=4 , j=5\n",
      "i=4 , j=6\n",
      "i=5 , j=1\n",
      "i=5 , j=2\n",
      "i=5 , j=3\n",
      "i=5 , j=4\n",
      "i=5 , j=5\n",
      "i=5 , j=6\n"
     ]
    }
   ],
   "source": [
    "//Normal for loop\n",
    "\n",
    "for(i<- 1 to 5)println(i)\n",
    "println()\n",
    "for(i<- 1 until 5)println(i)\n",
    "println()\n",
    "\n",
    "//filter within a for loop using if\n",
    "for(i<-1 to 7 if i%2==0)println(i)//prints even number\n",
    "println()\n",
    "\n",
    "//Nested for loops\n",
    "\n",
    "for(i<-1 to 5 ){\n",
    "    for(j<-1 to 5){\n",
    "\n",
    "        println(s\"i=$i , j=$j\")\n",
    "    }\n",
    "}\n",
    "\n",
    "println()\n",
    "for(i<-1 to 5 ;j<-1 to 6){\n",
    "\n",
    "    println(s\"i=$i , j=$j\")\n",
    "}"
   ]
  },
  {
   "cell_type": "markdown",
   "metadata": {},
   "source": [
    "#### While loop\n"
   ]
  },
  {
   "cell_type": "code",
   "execution_count": 8,
   "metadata": {},
   "outputs": [
    {
     "name": "stdout",
     "output_type": "stream",
     "text": [
      "1\n",
      "2\n",
      "3\n",
      "4\n",
      "5\n"
     ]
    },
    {
     "data": {
      "text/html": [
       "<div class=\"jp-RenderedText\">\n",
       "<pre><code><span style=\"color: rgb(0, 187, 187)\"><span class=\"ansi-cyan-fg\">v</span></span>: <span style=\"color: rgb(0, 187, 0)\"><span class=\"ansi-green-fg\">Int</span></span> = <span style=\"color: rgb(0, 187, 0)\"><span class=\"ansi-green-fg\">6</span></span></code></pre>\n",
       "</div>"
      ],
      "text/plain": [
       "\u001b[36mv\u001b[39m: \u001b[32mInt\u001b[39m = \u001b[32m6\u001b[39m"
      ]
     },
     "metadata": {},
     "output_type": "display_data"
    }
   ],
   "source": [
    "var v:Int =1\n",
    "while(v<=5){\n",
    "    println(v)\n",
    "    v+=1\n",
    "}"
   ]
  },
  {
   "cell_type": "markdown",
   "metadata": {},
   "source": [
    "#### Do while loop\n"
   ]
  },
  {
   "cell_type": "code",
   "execution_count": 10,
   "metadata": {},
   "outputs": [
    {
     "name": "stdout",
     "output_type": "stream",
     "text": [
      "0\n"
     ]
    },
    {
     "data": {
      "text/plain": [
       "\u001b[36mcnt\u001b[39m: \u001b[32mInt\u001b[39m = \u001b[32m0\u001b[39m"
      ]
     },
     "execution_count": 10,
     "metadata": {},
     "output_type": "execute_result"
    }
   ],
   "source": [
    "var cnt=0;\n",
    "do{\n",
    "    println(cnt)\n",
    "}while(cnt>0)"
   ]
  }
 ],
 "metadata": {
  "kernelspec": {
   "display_name": "Scala",
   "language": "scala",
   "name": "scala"
  },
  "language_info": {
   "codemirror_mode": "text/x-scala",
   "file_extension": ".sc",
   "mimetype": "text/x-scala",
   "name": "scala",
   "nbconvert_exporter": "script",
   "version": "2.13.14"
  }
 },
 "nbformat": 4,
 "nbformat_minor": 2
}
