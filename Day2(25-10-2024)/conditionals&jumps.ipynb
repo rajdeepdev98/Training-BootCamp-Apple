{
 "cells": [
  {
   "cell_type": "markdown",
   "metadata": {},
   "source": [
    "## Conditionals and Jumps in Scala"
   ]
  },
  {
   "cell_type": "markdown",
   "metadata": {},
   "source": [
    "#### Conditionals"
   ]
  },
  {
   "cell_type": "markdown",
   "metadata": {},
   "source": [
    "#### Normal if-else"
   ]
  },
  {
   "cell_type": "code",
   "execution_count": 3,
   "metadata": {},
   "outputs": [
    {
     "name": "stdout",
     "output_type": "stream",
     "text": [
      "He's a kid!\n"
     ]
    },
    {
     "data": {
      "text/plain": [
       "\u001b[36mage\u001b[39m: \u001b[32mInt\u001b[39m = \u001b[32m11\u001b[39m"
      ]
     },
     "execution_count": 3,
     "metadata": {},
     "output_type": "execute_result"
    }
   ],
   "source": [
    "\n",
    "// If else statements\n",
    "val age=11\n",
    "if(age>=18){\n",
    "\n",
    "    println(\"He's an adult\")\n",
    "}else if(age>=12){\n",
    "\n",
    "    println(\"He's an adolescent\")\n",
    "}else{\n",
    "\n",
    "    println(\"He's a kid!\")\n",
    "}"
   ]
  },
  {
   "cell_type": "markdown",
   "metadata": {},
   "source": [
    "#### If else as expressions"
   ]
  },
  {
   "cell_type": "code",
   "execution_count": 1,
   "metadata": {},
   "outputs": [
    {
     "name": "stdout",
     "output_type": "stream",
     "text": [
      "positive\n",
      "10\n",
      "Test1\n"
     ]
    },
    {
     "data": {
      "text/plain": [
       "\u001b[36mx\u001b[39m: \u001b[32mInt\u001b[39m = \u001b[32m15\u001b[39m\n",
       "\u001b[36mresult\u001b[39m: \u001b[32mString\u001b[39m = \u001b[32m\"positive\"\u001b[39m\n",
       "\u001b[36mres2\u001b[39m: \u001b[32mAny\u001b[39m = \u001b[32m10\u001b[39m"
      ]
     },
     "execution_count": 1,
     "metadata": {},
     "output_type": "execute_result"
    }
   ],
   "source": [
    "val x=15\n",
    "val result=if(x>=0)\"positive\" else \"negative\"\n",
    "println(result)  //prints positive\n",
    "\n",
    "val res2=if(x<0)\"negative\" else 10\n",
    "\n",
    "println(res2)\n",
    "\n",
    "//conditionals along with logical operators\n",
    "if(x>=11 && x<=16){\n",
    "\n",
    "    println(\"Test1\")\n",
    "}"
   ]
  },
  {
   "cell_type": "markdown",
   "metadata": {},
   "source": [
    "#### Pattern matching\n"
   ]
  },
  {
   "cell_type": "markdown",
   "metadata": {},
   "source": [
    "#### Match Expression\n",
    "##### Match expressions are extremely versatile tools for branching logic based on the value of a variable\n"
   ]
  },
  {
   "cell_type": "code",
   "execution_count": 6,
   "metadata": {},
   "outputs": [
    {
     "name": "stdout",
     "output_type": "stream",
     "text": [
      "Default\n",
      "String of length 5\n",
      "Integer value: 5\n",
      "Invalid day\n",
      "Double digit or more positive\n"
     ]
    },
    {
     "data": {
      "text/plain": [
       "\u001b[36mx\u001b[39m: \u001b[32mInt\u001b[39m = \u001b[32m10\u001b[39m\n",
       "\u001b[36mv\u001b[39m: \u001b[32mAny\u001b[39m = \u001b[32m\"Hello\"\u001b[39m\n",
       "\u001b[36mi\u001b[39m: \u001b[32mAny\u001b[39m = \u001b[32m5\u001b[39m\n",
       "\u001b[36mday\u001b[39m: \u001b[32mAny\u001b[39m = \u001b[32m\"Monday\"\u001b[39m\n",
       "\u001b[36mdayName\u001b[39m: \u001b[32mString\u001b[39m = \u001b[32m\"Invalid day\"\u001b[39m\n",
       "\u001b[36mnumber\u001b[39m: \u001b[32mInt\u001b[39m = \u001b[32m15\u001b[39m"
      ]
     },
     "execution_count": 6,
     "metadata": {},
     "output_type": "execute_result"
    }
   ],
   "source": [
    "//normal matching\n",
    "val x=10\n",
    "x match{\n",
    "\n",
    "\n",
    "    case 1=>println(\"One\")\n",
    "    case 2=>println(\"Two\")\n",
    "    case 3=>println(\"Three\")\n",
    "    case 5=>println(\"Five\")\n",
    "    case 6=>println(\"Six\")\n",
    "    case _=>println(\"Default\")\n",
    "}\n",
    "\n",
    "\n",
    "\n",
    "//bind the matched pattern to a variable\n",
    "\n",
    "val v: Any = \"Hello\"\n",
    "\n",
    "v match {\n",
    "  case s: String => println(s\"String of length ${s.length}\")\n",
    "  case i: Int => println(s\"Integer value: $i\")\n",
    "  case _ => println(\"Unknown type\")\n",
    "}\n",
    "\n",
    "\n",
    "//match based on types\n",
    "val i:Any=5\n",
    "i match {\n",
    "  case s: String => println(s\"String of length ${s.length}\")\n",
    "  case i: Int => println(s\"Integer value: $i\")\n",
    "  case _ => println(\"Unknown type\")\n",
    "}\n",
    "\n",
    "val day:Any=\"Monday\"\n",
    "\n",
    "val dayName = day match {\n",
    "  case 1 => \"Monday\"\n",
    "  case 2 => \"Tuesday\"\n",
    "  case 3 => \"Wednesday\"\n",
    "  case _ => \"Invalid day\"\n",
    "}\n",
    "println(dayName)//prints Invalid Day when using Any  as type of day but throws error if String/no type declaration is used\n",
    "\n",
    "//using guards\n",
    "\n",
    "// guards are conditions that you can use in pattern matching to add additional checks to your case statements using 'if' conditionsß\n",
    "\n",
    "val number = 15\n",
    "\n",
    "number match {\n",
    "  case n if n < 0 => println(\"Negative\")\n",
    "  case n if n == 0 => println(\"Zero\")\n",
    "  case n if n > 0 && n < 10 => println(\"Single digit positive\")\n",
    "  case n if n >= 10 => println(\"Double digit or more positive\")\n",
    "}\n",
    "\n",
    "\n",
    "\n",
    "\n",
    "//pending-> case classes,collections\n"
   ]
  },
  {
   "cell_type": "markdown",
   "metadata": {},
   "source": [
    "#### Jumps in Scala"
   ]
  },
  {
   "cell_type": "markdown",
   "metadata": {},
   "source": [
    "##### Traditional jump statements like break and continue are not available in scala.But there are substitutes and other ways to simulate the same"
   ]
  },
  {
   "cell_type": "markdown",
   "metadata": {},
   "source": [
    "###### One way would be to use return statements , to break out earlier of a function,kindof working like a jump statement"
   ]
  },
  {
   "cell_type": "code",
   "execution_count": 7,
   "metadata": {},
   "outputs": [
    {
     "name": "stdout",
     "output_type": "stream",
     "text": [
      "Negative input\n",
      "Valid input\n"
     ]
    },
    {
     "data": {
      "text/plain": [
       "defined \u001b[32mfunction\u001b[39m \u001b[36mprocess\u001b[39m"
      ]
     },
     "execution_count": 7,
     "metadata": {},
     "output_type": "execute_result"
    }
   ],
   "source": [
    "def process(input: Int): String = {\n",
    "  if (input < 0) return \"Negative input\" // Early return\n",
    "  \"Valid input\"\n",
    "}\n",
    "\n",
    "println(process(-1)) // Prints Negative input\n",
    "println(process(5))  // Prints Valid input\n"
   ]
  },
  {
   "cell_type": "markdown",
   "metadata": {},
   "source": [
    "###### Using increments to simulate continue in while/do while loops"
   ]
  },
  {
   "cell_type": "code",
   "execution_count": 8,
   "metadata": {},
   "outputs": [
    {
     "name": "stdout",
     "output_type": "stream",
     "text": [
      "Ehhh, nothing special!\n",
      "Ehhh, nothing special!\n",
      "Ehhh, nothing special!\n",
      "Ehhh, nothing special!\n",
      "Its fifth man!!\n",
      "Ehhh, nothing special!\n",
      "Ehhh, nothing special!\n",
      "Ehhh, nothing special!\n",
      "Ehhh, nothing special!\n"
     ]
    },
    {
     "data": {
      "text/html": [
       "<div class=\"jp-RenderedText\">\n",
       "<pre><code><span style=\"color: rgb(0, 187, 187)\"><span class=\"ansi-cyan-fg\">i</span></span>: <span style=\"color: rgb(0, 187, 0)\"><span class=\"ansi-green-fg\">Int</span></span> = <span style=\"color: rgb(0, 187, 0)\"><span class=\"ansi-green-fg\">10</span></span></code></pre>\n",
       "</div>"
      ],
      "text/plain": [
       "\u001b[36mi\u001b[39m: \u001b[32mInt\u001b[39m = \u001b[32m10\u001b[39m"
      ]
     },
     "metadata": {},
     "output_type": "display_data"
    }
   ],
   "source": [
    "var i:Int=1\n",
    "while(i<10){\n",
    "\n",
    "    if(i==5){\n",
    "\n",
    "        println(\"Its fifth man!!\")\n",
    "    }else{\n",
    "        println(\"Ehhh, nothing special!\")\n",
    "    }\n",
    "    i+=1\n",
    "}\n",
    "//simulating continue using if-else\n",
    "\n",
    "\n"
   ]
  },
  {
   "cell_type": "markdown",
   "metadata": {},
   "source": [
    "###### Using guards in for loops to skip certain values"
   ]
  },
  {
   "cell_type": "code",
   "execution_count": 9,
   "metadata": {},
   "outputs": [
    {
     "name": "stdout",
     "output_type": "stream",
     "text": [
      "0\n",
      "1\n",
      "3\n",
      "4\n"
     ]
    },
    {
     "ename": "",
     "evalue": "",
     "output_type": "error",
     "traceback": [
      "\u001b[1;31mThe Kernel crashed while executing code in the current cell or a previous cell. \n",
      "\u001b[1;31mPlease review the code in the cell(s) to identify a possible cause of the failure. \n",
      "\u001b[1;31mClick <a href='https://aka.ms/vscodeJupyterKernelCrash'>here</a> for more info. \n",
      "\u001b[1;31mView Jupyter <a href='command:jupyter.viewOutput'>log</a> for further details."
     ]
    }
   ],
   "source": [
    "for (i <- 0 until 5 if i != 2) { // Skip the iteration where i is 2\n",
    "  println(i)\n",
    "}"
   ]
  },
  {
   "cell_type": "markdown",
   "metadata": {},
   "source": [
    "###### Using Breaks (from scala.util.control.Breaks)"
   ]
  },
  {
   "cell_type": "code",
   "execution_count": 1,
   "metadata": {},
   "outputs": [
    {
     "name": "stdout",
     "output_type": "stream",
     "text": [
      "1\n",
      "2\n"
     ]
    },
    {
     "data": {
      "text/plain": [
       "\u001b[32mimport \u001b[39m\u001b[36mscala.util.control.Breaks._\u001b[39m"
      ]
     },
     "execution_count": 1,
     "metadata": {},
     "output_type": "execute_result"
    }
   ],
   "source": [
    "import scala.util.control.Breaks._\n",
    "\n",
    "breakable{\n",
    "\n",
    "    for(i<-1 until 6){\n",
    "        \n",
    "        if(i==3)break()\n",
    "\n",
    "        println(i)\n",
    "    }\n",
    "}"
   ]
  },
  {
   "cell_type": "markdown",
   "metadata": {},
   "source": [
    "###### Avoiding breaks and using the takeWhile Method"
   ]
  },
  {
   "cell_type": "code",
   "execution_count": 2,
   "metadata": {},
   "outputs": [
    {
     "name": "stdout",
     "output_type": "stream",
     "text": [
      "0\n",
      "1\n",
      "2\n",
      "3\n",
      "4\n"
     ]
    },
    {
     "data": {
      "text/plain": [
       "\u001b[36mnumbers\u001b[39m: \u001b[32mRange\u001b[39m = \u001b[33mRange\u001b[39m(\u001b[32m0\u001b[39m, \u001b[32m1\u001b[39m, \u001b[32m2\u001b[39m, \u001b[32m3\u001b[39m, \u001b[32m4\u001b[39m)"
      ]
     },
     "execution_count": 2,
     "metadata": {},
     "output_type": "execute_result"
    }
   ],
   "source": [
    "val numbers = (0 until 10).takeWhile(_ != 5)\n",
    "\n",
    "numbers.foreach(println) // Outputs: 0, 1, 2, 3, 4"
   ]
  }
 ],
 "metadata": {
  "kernelspec": {
   "display_name": "Scala",
   "language": "scala",
   "name": "scala"
  },
  "language_info": {
   "codemirror_mode": "text/x-scala",
   "file_extension": ".sc",
   "mimetype": "text/x-scala",
   "name": "scala",
   "nbconvert_exporter": "script",
   "version": "2.13.14"
  }
 },
 "nbformat": 4,
 "nbformat_minor": 2
}
